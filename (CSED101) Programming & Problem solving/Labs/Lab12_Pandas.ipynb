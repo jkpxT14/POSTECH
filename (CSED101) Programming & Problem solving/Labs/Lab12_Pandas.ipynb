{
 "cells": [
  {
   "cell_type": "code",
   "execution_count": 56,
   "metadata": {},
   "outputs": [],
   "source": [
    "import pandas as pd"
   ]
  },
  {
   "cell_type": "code",
   "execution_count": 57,
   "metadata": {},
   "outputs": [],
   "source": [
    "# 컬럼들이 쉼표로 구분되어 있지 않은 경우\n",
    "# 예) 탭으로 구분되어 있는 경우 delimiter = '\\t'\n",
    "\n",
    "# 6. 정렬\n",
    "# 행/열이름 기준 정렬\n",
    "# df.sort_index(axis=0, ascending=True) # 오름차순\n",
    "# 값기준 정렬\n",
    "# df.sort_values(by  = '열이름', ascending=False) # 내림차순"
   ]
  },
  {
   "cell_type": "code",
   "execution_count": 58,
   "metadata": {},
   "outputs": [],
   "source": [
    "data_dic={\n",
    "    \"name\": [\"John\", \"Emma\", \"Liam\", \"Olivia\", \"Noah\", \"Anne\"],\n",
    "    \"mid\": [84, 92, 57, 81, 58, 77],\n",
    "    \"final\": [73, 89, 62, 84, 68, 44]\n",
    "}"
   ]
  },
  {
   "cell_type": "code",
   "execution_count": 59,
   "metadata": {},
   "outputs": [
    {
     "name": "stdout",
     "output_type": "stream",
     "text": [
      "     name  mid  final\n",
      "0    John   84     73\n",
      "1    Emma   92     89\n",
      "2    Liam   57     62\n",
      "3  Olivia   81     84\n",
      "4    Noah   58     68\n",
      "5    Anne   77     44\n"
     ]
    }
   ],
   "source": [
    "df1=pd.DataFrame(data_dic)\n",
    "print(df1)"
   ]
  },
  {
   "cell_type": "code",
   "execution_count": 60,
   "metadata": {},
   "outputs": [],
   "source": [
    "data_list=[[\"John\", 84, 73],\n",
    "           [\"Emma\", 92, 89],\n",
    "           [\"Liam\", 57, 62]] \n",
    "title_list=[\"name\", \"mid\", \"final\"]"
   ]
  },
  {
   "cell_type": "code",
   "execution_count": 61,
   "metadata": {},
   "outputs": [
    {
     "name": "stdout",
     "output_type": "stream",
     "text": [
      "   name  mid  final\n",
      "0  John   84     73\n",
      "1  Emma   92     89\n",
      "2  Liam   57     62\n"
     ]
    }
   ],
   "source": [
    "df2=pd.DataFrame(data_list, columns=title_list)\n",
    "print(df2)"
   ]
  },
  {
   "cell_type": "code",
   "execution_count": 62,
   "metadata": {},
   "outputs": [],
   "source": [
    "df1.to_csv(\"student.txt\", header=None, index=None)"
   ]
  },
  {
   "cell_type": "code",
   "execution_count": 63,
   "metadata": {},
   "outputs": [
    {
     "name": "stdout",
     "output_type": "stream",
     "text": [
      "     John  84  73\n",
      "0    Emma  92  89\n",
      "1    Liam  57  62\n",
      "2  Olivia  81  84\n",
      "3    Noah  58  68\n",
      "4    Anne  77  44\n"
     ]
    }
   ],
   "source": [
    "df=pd.read_csv(\"student.txt\")\n",
    "print(df)"
   ]
  },
  {
   "cell_type": "code",
   "execution_count": 64,
   "metadata": {},
   "outputs": [
    {
     "name": "stdout",
     "output_type": "stream",
     "text": [
      "        0   1   2\n",
      "0    John  84  73\n",
      "1    Emma  92  89\n",
      "2    Liam  57  62\n",
      "3  Olivia  81  84\n",
      "4    Noah  58  68\n",
      "5    Anne  77  44\n"
     ]
    }
   ],
   "source": [
    "df=pd.read_csv(\"student.txt\", header=None)\n",
    "print(df)"
   ]
  },
  {
   "cell_type": "code",
   "execution_count": 65,
   "metadata": {},
   "outputs": [
    {
     "name": "stdout",
     "output_type": "stream",
     "text": [
      "     Name  Mid  Final\n",
      "0    John   84     73\n",
      "1    Emma   92     89\n",
      "2    Liam   57     62\n",
      "3  Olivia   81     84\n",
      "4    Noah   58     68\n",
      "5    Anne   77     44\n"
     ]
    }
   ],
   "source": [
    "df.columns=[\"Name\", \"Mid\", \"Final\"]\n",
    "print(df)"
   ]
  },
  {
   "cell_type": "code",
   "execution_count": 66,
   "metadata": {},
   "outputs": [
    {
     "name": "stdout",
     "output_type": "stream",
     "text": [
      "     Name  Mid  Final\n",
      "0    John   84     73\n",
      "1    Emma   92     89\n",
      "2    Liam   57     62\n",
      "3  Olivia   81     84\n",
      "4    Noah   58     68\n",
      "5    Anne   77     44\n"
     ]
    }
   ],
   "source": [
    "df=pd.read_csv(\"student.txt\", names=[\"Name\", \"Mid\", \"Final\"])\n",
    "print(df)"
   ]
  },
  {
   "cell_type": "code",
   "execution_count": 67,
   "metadata": {},
   "outputs": [
    {
     "name": "stdout",
     "output_type": "stream",
     "text": [
      "   Name  Mid  Final\n",
      "0  John   84     73\n",
      "1  Emma   92     89\n",
      "2  Liam   57     62\n",
      "\n",
      "     Name  Mid  Final\n",
      "3  Olivia   81     84\n",
      "4    Noah   58     68\n",
      "5    Anne   77     44\n"
     ]
    }
   ],
   "source": [
    "print(df.head(3))\n",
    "print()\n",
    "print(df.tail(3))"
   ]
  },
  {
   "cell_type": "code",
   "execution_count": 68,
   "metadata": {},
   "outputs": [
    {
     "name": "stdout",
     "output_type": "stream",
     "text": [
      "<class 'pandas.core.frame.DataFrame'>\n",
      "RangeIndex: 6 entries, 0 to 5\n",
      "Data columns (total 3 columns):\n",
      " #   Column  Non-Null Count  Dtype \n",
      "---  ------  --------------  ----- \n",
      " 0   Name    6 non-null      object\n",
      " 1   Mid     6 non-null      int64 \n",
      " 2   Final   6 non-null      int64 \n",
      "dtypes: int64(2), object(1)\n",
      "memory usage: 276.0+ bytes\n",
      "None\n"
     ]
    }
   ],
   "source": [
    "print(df.info())"
   ]
  },
  {
   "cell_type": "code",
   "execution_count": 69,
   "metadata": {},
   "outputs": [
    {
     "name": "stdout",
     "output_type": "stream",
     "text": [
      "             Mid      Final\n",
      "count   6.000000   6.000000\n",
      "mean   74.833333  70.000000\n",
      "std    14.302680  16.186414\n",
      "min    57.000000  44.000000\n",
      "25%    62.750000  63.500000\n",
      "50%    79.000000  70.500000\n",
      "75%    83.250000  81.250000\n",
      "max    92.000000  89.000000\n"
     ]
    }
   ],
   "source": [
    "print(df.describe())"
   ]
  },
  {
   "cell_type": "code",
   "execution_count": 70,
   "metadata": {},
   "outputs": [
    {
     "name": "stdout",
     "output_type": "stream",
     "text": [
      "0    84\n",
      "1    92\n",
      "2    57\n",
      "3    81\n",
      "4    58\n",
      "5    77\n",
      "Name: Mid, dtype: int64\n"
     ]
    }
   ],
   "source": [
    "print(df[\"Mid\"])"
   ]
  },
  {
   "cell_type": "code",
   "execution_count": 71,
   "metadata": {},
   "outputs": [
    {
     "name": "stdout",
     "output_type": "stream",
     "text": [
      "     Name  Mid\n",
      "0    John   84\n",
      "1    Emma   92\n",
      "2    Liam   57\n",
      "3  Olivia   81\n",
      "4    Noah   58\n",
      "5    Anne   77\n"
     ]
    }
   ],
   "source": [
    "print(df[[\"Name\", \"Mid\"]])"
   ]
  },
  {
   "cell_type": "code",
   "execution_count": 72,
   "metadata": {},
   "outputs": [
    {
     "name": "stdout",
     "output_type": "stream",
     "text": [
      "74.83333333333333\n"
     ]
    }
   ],
   "source": [
    "print(df[\"Mid\"].mean())"
   ]
  },
  {
   "cell_type": "code",
   "execution_count": 73,
   "metadata": {},
   "outputs": [
    {
     "name": "stdout",
     "output_type": "stream",
     "text": [
      "     Name  Mid  Final  Total\n",
      "0    John   84     73    100\n",
      "1    Emma   92     89    100\n",
      "2    Liam   57     62    100\n",
      "3  Olivia   81     84    100\n",
      "4    Noah   58     68    100\n",
      "5    Anne   77     44    100\n"
     ]
    }
   ],
   "source": [
    "df[\"Total\"]=100\n",
    "print(df)"
   ]
  },
  {
   "cell_type": "code",
   "execution_count": 74,
   "metadata": {},
   "outputs": [
    {
     "name": "stdout",
     "output_type": "stream",
     "text": [
      "     Name  Mid  Final  Total\n",
      "0    John   84     73    157\n",
      "1    Emma   92     89    181\n",
      "2    Liam   57     62    119\n",
      "3  Olivia   81     84    165\n",
      "4    Noah   58     68    126\n",
      "5    Anne   77     44    121\n"
     ]
    }
   ],
   "source": [
    "df[\"Total\"]=df[\"Mid\"]+df[\"Final\"]\n",
    "print(df)"
   ]
  },
  {
   "cell_type": "code",
   "execution_count": 75,
   "metadata": {},
   "outputs": [
    {
     "name": "stdout",
     "output_type": "stream",
     "text": [
      "     Name  Mid  Final  Total  Average\n",
      "0    John   84     73    157     78.5\n",
      "1    Emma   92     89    181     90.5\n",
      "2    Liam   57     62    119     59.5\n",
      "3  Olivia   81     84    165     82.5\n",
      "4    Noah   58     68    126     63.0\n",
      "5    Anne   77     44    121     60.5\n"
     ]
    }
   ],
   "source": [
    "df[\"Average\"]=(df[\"Mid\"]+df[\"Final\"])/2\n",
    "print(df)"
   ]
  },
  {
   "cell_type": "code",
   "execution_count": 76,
   "metadata": {},
   "outputs": [
    {
     "name": "stdout",
     "output_type": "stream",
     "text": [
      "0     True\n",
      "1     True\n",
      "2    False\n",
      "3     True\n",
      "4    False\n",
      "5    False\n",
      "Name: Average, dtype: bool\n"
     ]
    }
   ],
   "source": [
    "print(df[\"Average\"]>=70)"
   ]
  },
  {
   "cell_type": "code",
   "execution_count": 77,
   "metadata": {},
   "outputs": [
    {
     "name": "stdout",
     "output_type": "stream",
     "text": [
      "     Name  Mid  Final  Total  Average\n",
      "0    John   84     73    157     78.5\n",
      "1    Emma   92     89    181     90.5\n",
      "3  Olivia   81     84    165     82.5\n"
     ]
    }
   ],
   "source": [
    "print(df[df[\"Average\"]>=70])"
   ]
  },
  {
   "cell_type": "code",
   "execution_count": 78,
   "metadata": {},
   "outputs": [
    {
     "name": "stdout",
     "output_type": "stream",
     "text": [
      "   Name  Mid  Final  Total  Average\n",
      "4  Noah   58     68    126     63.0\n",
      "5  Anne   77     44    121     60.5\n"
     ]
    }
   ],
   "source": [
    "print(df[(60<=df[\"Average\"])&(df[\"Average\"]<70)])"
   ]
  },
  {
   "cell_type": "code",
   "execution_count": 79,
   "metadata": {},
   "outputs": [
    {
     "name": "stdout",
     "output_type": "stream",
     "text": [
      "     Name  Mid  Final  Average\n",
      "0    John   84     73     78.5\n",
      "1    Emma   92     89     90.5\n",
      "2    Liam   57     62     59.5\n",
      "3  Olivia   81     84     82.5\n",
      "4    Noah   58     68     63.0\n",
      "5    Anne   77     44     60.5\n"
     ]
    }
   ],
   "source": [
    "del df[\"Total\"]\n",
    "print(df)"
   ]
  },
  {
   "cell_type": "code",
   "execution_count": 80,
   "metadata": {},
   "outputs": [],
   "source": [
    "def calc_grade(avg):\n",
    "    if avg>=90:\n",
    "        grade=\"A\"\n",
    "    elif avg>=80:\n",
    "        grade=\"B\"\n",
    "    elif avg>=70:\n",
    "        grade=\"C\"\n",
    "    elif avg>=60:\n",
    "        grade=\"D\"\n",
    "    else:\n",
    "        grade=\"F\"\n",
    "    \n",
    "    return grade"
   ]
  },
  {
   "cell_type": "code",
   "execution_count": 81,
   "metadata": {},
   "outputs": [
    {
     "name": "stdout",
     "output_type": "stream",
     "text": [
      "     Name  Mid  Final  Average Grade\n",
      "0    John   84     73     78.5     C\n",
      "1    Emma   92     89     90.5     A\n",
      "2    Liam   57     62     59.5     F\n",
      "3  Olivia   81     84     82.5     B\n",
      "4    Noah   58     68     63.0     D\n",
      "5    Anne   77     44     60.5     D\n"
     ]
    }
   ],
   "source": [
    "df[\"Grade\"]=df[\"Average\"].apply(calc_grade)\n",
    "print(df)"
   ]
  },
  {
   "cell_type": "code",
   "execution_count": 82,
   "metadata": {},
   "outputs": [
    {
     "name": "stdout",
     "output_type": "stream",
     "text": [
      "     Name  Mid  Final  Average Grade\n",
      "0    John   84     73     78.5     C\n",
      "1    Emma   92     89     90.5     A\n",
      "2    Liam   57     62     59.5     F\n",
      "3  Olivia   81     84     82.5     B\n",
      "4    Noah   58     68     63.0     D\n",
      "5    Anne   77     44     60.5     D\n"
     ]
    }
   ],
   "source": [
    "df.sort_values(by=\"Mid\", ascending=False)\n",
    "print(df)"
   ]
  },
  {
   "cell_type": "code",
   "execution_count": 83,
   "metadata": {},
   "outputs": [
    {
     "name": "stdout",
     "output_type": "stream",
     "text": [
      "     Name  Mid  Final  Average Grade\n",
      "0    John   84     73     78.5     C\n",
      "1    Emma   92     89     90.5     A\n",
      "2    Liam   57     62     59.5     F\n",
      "3  Olivia   81     84     82.5     B\n",
      "4    Noah   58     68     63.0     D\n",
      "5    Anne   77     44     60.5     D\n"
     ]
    }
   ],
   "source": [
    "df.sort_values(by=\"Average\", ascending=False)\n",
    "print(df)"
   ]
  }
 ],
 "metadata": {
  "kernelspec": {
   "display_name": "Python 3",
   "language": "python",
   "name": "python3"
  },
  "language_info": {
   "codemirror_mode": {
    "name": "ipython",
    "version": 3
   },
   "file_extension": ".py",
   "mimetype": "text/x-python",
   "name": "python",
   "nbconvert_exporter": "python",
   "pygments_lexer": "ipython3",
   "version": "3.12.10"
  }
 },
 "nbformat": 4,
 "nbformat_minor": 4
}
