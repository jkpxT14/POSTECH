{
 "cells": [
  {
   "cell_type": "code",
   "execution_count": null,
   "metadata": {},
   "outputs": [],
   "source": [
    "date=input(\"날짜(연-월-일)입력: \")\n",
    "y=int(date.split(\"-\")[0])\n",
    "y+=10\n",
    "m=int(date.split(\"-\")[1])\n",
    "d=int(date.split(\"-\")[2])\n",
    "print(\"입력한 날짜의 10년 후는 {}년 {}월 {}일\".format(y, m, d))"
   ]
  },
  {
   "cell_type": "code",
   "execution_count": null,
   "metadata": {},
   "outputs": [],
   "source": [
    "inputMoney=int(input(\"투입한 돈: \"))\n",
    "price=int(input(\"물건 값: \"))\n",
    "change=inputMoney-price\n",
    "print(\"거스름돈: {}원\".format(change))\n",
    "print(\"500원짜리: {}개\".format(change//500))\n",
    "print(\"100원짜리: {}개\".format((change%500)//100))"
   ]
  }
 ],
 "metadata": {
  "language_info": {
   "name": "python"
  }
 },
 "nbformat": 4,
 "nbformat_minor": 2
}
