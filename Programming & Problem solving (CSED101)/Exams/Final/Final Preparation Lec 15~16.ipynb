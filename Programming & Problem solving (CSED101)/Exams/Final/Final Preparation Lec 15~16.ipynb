{
 "cells": [
  {
   "cell_type": "markdown",
   "metadata": {},
   "source": [
    "Final"
   ]
  },
  {
   "cell_type": "markdown",
   "metadata": {},
   "source": [
    "Lecture 15 - NumPy"
   ]
  },
  {
   "cell_type": "code",
   "execution_count": 34,
   "metadata": {},
   "outputs": [],
   "source": [
    "import numpy as np"
   ]
  },
  {
   "cell_type": "code",
   "execution_count": 35,
   "metadata": {},
   "outputs": [
    {
     "name": "stdout",
     "output_type": "stream",
     "text": [
      "[22.22222222 22.75086505 22.96489796 23.30246914]\n"
     ]
    }
   ],
   "source": [
    "height=[1.65, 1.70, 1.75, 1.80]\n",
    "weight=[60.50, 65.75, 70.33, 75.50]\n",
    "\n",
    "np_height=np.array(height)\n",
    "np_weight=np.array(weight)\n",
    "\n",
    "bmi_list=np_weight/np_height**2\n",
    "\n",
    "print(bmi_list)"
   ]
  },
  {
   "cell_type": "code",
   "execution_count": 36,
   "metadata": {},
   "outputs": [
    {
     "name": "stdout",
     "output_type": "stream",
     "text": [
      "[[0. 0. 0.]\n",
      " [0. 0. 0.]\n",
      " [0. 0. 0.]]\n",
      "[[1. 1. 1. 1.]\n",
      " [1. 1. 1. 1.]]\n",
      "[[4 7 3]\n",
      " [5 3 8]]\n"
     ]
    }
   ],
   "source": [
    "zeros_arr=np.zeros((3, 3))\n",
    "print(zeros_arr)\n",
    "\n",
    "ones_arr=np.ones((2, 4))\n",
    "print(ones_arr)\n",
    "\n",
    "random_arr=np.random.randint(10, size=(2, 3))\n",
    "print(random_arr)"
   ]
  },
  {
   "cell_type": "code",
   "execution_count": 37,
   "metadata": {},
   "outputs": [
    {
     "name": "stdout",
     "output_type": "stream",
     "text": [
      "[5 7 9]\n",
      "32\n",
      "[[1 3]\n",
      " [2 4]]\n"
     ]
    }
   ],
   "source": [
    "arr1=np.array([1, 2, 3])\n",
    "arr2=np.array([4, 5, 6])\n",
    "\n",
    "result=arr1+arr2\n",
    "print(result)\n",
    "\n",
    "result=np.dot(arr1, arr2)\n",
    "print(result)\n",
    "\n",
    "arr3=np.array([[1, 2], [3, 4]])\n",
    "transposed_arr=arr3.T\n",
    "print(transposed_arr)"
   ]
  },
  {
   "cell_type": "code",
   "execution_count": 38,
   "metadata": {},
   "outputs": [
    {
     "name": "stdout",
     "output_type": "stream",
     "text": [
      "7\n",
      "[1 2 3 4]\n",
      "[ 4  8 12]\n",
      "[[ 6  7  8]\n",
      " [10 11 12]]\n"
     ]
    }
   ],
   "source": [
    "arr=np.array([[1, 2, 3, 4],\n",
    "             [5, 6, 7, 8],\n",
    "             [9, 10, 11, 12]])\n",
    "\n",
    "print(arr[1, 2])\n",
    "print(arr[0, :])\n",
    "print(arr[:, 3])\n",
    "print(arr[1:3, 1:4])"
   ]
  },
  {
   "cell_type": "code",
   "execution_count": 39,
   "metadata": {},
   "outputs": [
    {
     "name": "stdout",
     "output_type": "stream",
     "text": [
      "[1.24 1.3  1.19 1.21 1.24 1.17 1.05 0.98 0.92 0.84 0.81 0.78]\n",
      "1.0608333333333333\n",
      "1.1099999999999999\n",
      "1.3\n",
      "0.78\n",
      "0.18011377577026755\n",
      "0.03244097222222222\n"
     ]
    }
   ],
   "source": [
    "birth_rates=np.array([1.24, 1.30, 1.19, 1.21, 1.24, 1.17, 1.05, 0.98, 0.92, 0.84, 0.81, 0.78])\n",
    "\n",
    "mean=np.mean(birth_rates)\n",
    "median=np.median(birth_rates)\n",
    "max_value=np.max(birth_rates)\n",
    "min_value=np.min(birth_rates)\n",
    "std_dev=np.std(birth_rates)\n",
    "variance=np.var(birth_rates)\n",
    "\n",
    "print(birth_rates)\n",
    "print(mean)\n",
    "print(median)\n",
    "print(max_value)\n",
    "print(min_value)\n",
    "print(std_dev)\n",
    "print(variance)"
   ]
  },
  {
   "cell_type": "code",
   "execution_count": 40,
   "metadata": {},
   "outputs": [
    {
     "name": "stdout",
     "output_type": "stream",
     "text": [
      "40\n",
      "30\n"
     ]
    }
   ],
   "source": [
    "class Stack:\n",
    "    def __init__(self, size):\n",
    "        self.size=size\n",
    "        self.stack=np.empty(size, dtype=np.object_) # np.object? np.object_?\n",
    "        self.top=-1\n",
    "\n",
    "    def is_empty(self):\n",
    "        return self.top==-1\n",
    "    \n",
    "    def is_full(self):\n",
    "        return self.top==self.size-1\n",
    "    \n",
    "    def push(self, element):\n",
    "        if self.is_full():\n",
    "            print(\"Stack is full.\")\n",
    "        else:\n",
    "            self.top+=1\n",
    "            self.stack[self.top]=element\n",
    "\n",
    "    def pop(self):\n",
    "        if self.is_empty():\n",
    "            print(\"Stack is empty.\")\n",
    "        else:\n",
    "            element=self.stack[self.top]\n",
    "            self.stack[self.top]=None\n",
    "            self.top-=1\n",
    "            return element\n",
    "        \n",
    "    def peek(self):\n",
    "        if self.is_empty():\n",
    "            print(\"Stack is empty.\")\n",
    "        else:\n",
    "            return self.stack[self.top]\n",
    "        \n",
    "stack=Stack(5)\n",
    "stack.push(10)\n",
    "stack.push(20)\n",
    "stack.push(30)\n",
    "stack.push(40)\n",
    "print(stack.pop())\n",
    "print(stack.peek())"
   ]
  },
  {
   "cell_type": "code",
   "execution_count": 41,
   "metadata": {},
   "outputs": [
    {
     "name": "stdout",
     "output_type": "stream",
     "text": [
      "1 [750 860]\n",
      "2 [825 805]\n",
      "3 [815 915]\n",
      "4 [787 729]\n"
     ]
    }
   ],
   "source": [
    "scores=np.array([[80, 90, 60],\n",
    "                [75, 80, 90],\n",
    "                [90, 95, 65],\n",
    "                [99, 70, 70]])\n",
    "\n",
    "weightings=np.array([[3, 1],\n",
    "                     [3, 8],\n",
    "                     [4, 1]])\n",
    "\n",
    "result=np.matmul(scores, weightings)\n",
    "\n",
    "for i, student_result in enumerate(result):\n",
    "    print(i+1, student_result)"
   ]
  },
  {
   "cell_type": "markdown",
   "metadata": {},
   "source": [
    "Lecture 16 - Pandas"
   ]
  },
  {
   "cell_type": "code",
   "execution_count": 42,
   "metadata": {},
   "outputs": [],
   "source": [
    "import pandas as pd\n",
    "import random"
   ]
  },
  {
   "cell_type": "code",
   "execution_count": 43,
   "metadata": {},
   "outputs": [
    {
     "name": "stdout",
     "output_type": "stream",
     "text": [
      "0    10\n",
      "1    20\n",
      "2    30\n",
      "3    40\n",
      "4    50\n",
      "dtype: int64\n"
     ]
    }
   ],
   "source": [
    "data=[10, 20, 30, 40, 50]\n",
    "\n",
    "series=pd.Series(data)\n",
    "\n",
    "print(series)"
   ]
  },
  {
   "cell_type": "code",
   "execution_count": 44,
   "metadata": {},
   "outputs": [
    {
     "name": "stdout",
     "output_type": "stream",
     "text": [
      "0    85\n",
      "1    92\n",
      "2    78\n",
      "3    90\n",
      "4    88\n",
      "dtype: int64\n",
      "85\n",
      "78\n",
      "78\n",
      "92\n",
      "86.6\n",
      "Index([1, 3], dtype='int64')\n"
     ]
    }
   ],
   "source": [
    "scores=pd.Series([85, 92, 78, 90, 88])\n",
    "\n",
    "print(scores)\n",
    "print(scores[0])\n",
    "print(scores[2])\n",
    "print(scores.min())\n",
    "print(scores.max())\n",
    "print(scores.mean())\n",
    "print(scores[scores>=90].index)"
   ]
  },
  {
   "cell_type": "code",
   "execution_count": 45,
   "metadata": {},
   "outputs": [
    {
     "name": "stdout",
     "output_type": "stream",
     "text": [
      "3\n",
      "30\n",
      "0    10\n",
      "1    20\n",
      "2    30\n",
      "dtype: int64\n",
      "30\n",
      "0    10\n",
      "1    20\n",
      "dtype: int64\n",
      "20\n",
      "10\n",
      "Stack is empty.\n",
      "None\n",
      "Stack is empty.\n",
      "None\n"
     ]
    },
    {
     "name": "stderr",
     "output_type": "stream",
     "text": [
      "C:\\Users\\jkpxt\\AppData\\Local\\Temp\\ipykernel_5668\\3557382488.py:6: FutureWarning: The behavior of array concatenation with empty entries is deprecated. In a future version, this will no longer exclude empty items when determining the result dtype. To retain the old behavior, exclude the empty entries before the concat operation.\n",
      "  self.stack=pd.concat([self.stack, pd.Series([value])], ignore_index=True)\n"
     ]
    }
   ],
   "source": [
    "class Stack:\n",
    "    def __init__(self):\n",
    "        self.stack=pd.Series(dtype='object')\n",
    "\n",
    "    def push(self, value):\n",
    "        self.stack=pd.concat([self.stack, pd.Series([value])], ignore_index=True)\n",
    "\n",
    "    def pop(self):\n",
    "        if self.is_empty():\n",
    "            print(\"Stack is empty.\")\n",
    "            return None\n",
    "        popped_item=self.stack.iloc[-1]\n",
    "        self.stack=self.stack.iloc[:-1]\n",
    "        return popped_item\n",
    "    \n",
    "    def is_empty(self):\n",
    "        # return len(self.stack)==0\n",
    "        return self.stack.empty\n",
    "    \n",
    "    def peek(self):\n",
    "        if self.is_empty():\n",
    "            print(\"Stack is empty.\")\n",
    "            return None\n",
    "        else:\n",
    "            return self.stack.iloc[-1]\n",
    "        \n",
    "    def size(self):\n",
    "        return len(self.stack)\n",
    "    \n",
    "stack=Stack()\n",
    "stack.push(10)\n",
    "stack.push(20)\n",
    "stack.push(30)\n",
    "print(stack.size())\n",
    "print(stack.peek())\n",
    "print(stack.stack)\n",
    "print(stack.pop())\n",
    "print(stack.stack)\n",
    "print(stack.pop())\n",
    "print(stack.pop())\n",
    "print(stack.pop())\n",
    "print(stack.pop())"
   ]
  },
  {
   "cell_type": "code",
   "execution_count": 46,
   "metadata": {},
   "outputs": [
    {
     "name": "stdout",
     "output_type": "stream",
     "text": [
      "     Name  Age  Score\n",
      "0    John   25     85\n",
      "1    Emma   28     92\n",
      "2    Liam   24     78\n",
      "3  Olivia   27     90\n",
      "4    Noah   26     88\n",
      "\n",
      "   Name  Age  Score\n",
      "0  John   25     85\n",
      "1  Emma   28     92\n",
      "2  Liam   24     78\n",
      "\n",
      "             Age      Score\n",
      "count   5.000000   5.000000\n",
      "mean   26.000000  86.600000\n",
      "std     1.581139   5.458938\n",
      "min    24.000000  78.000000\n",
      "25%    25.000000  85.000000\n",
      "50%    26.000000  88.000000\n",
      "75%    27.000000  90.000000\n",
      "max    28.000000  92.000000\n",
      "\n",
      "(5, 3)\n",
      "\n",
      "Index(['Name', 'Age', 'Score'], dtype='object')\n",
      "\n",
      "RangeIndex(start=0, stop=5, step=1)\n",
      "\n",
      "     Name  Age  Score\n",
      "2    Liam   24     78\n",
      "3  Olivia   27     90\n",
      "\n",
      "     Name  Age  Score\n",
      "1    Emma   28     92\n",
      "3  Olivia   27     90\n",
      "4    Noah   26     88\n",
      "0    John   25     85\n",
      "2    Liam   24     78\n",
      "\n",
      "     Name  Age  Score\n",
      "0    John   25     85\n",
      "1    Emma   28     92\n",
      "2    Liam   24     78\n",
      "3  Olivia   27     90\n",
      "4    Noah   26     88\n",
      "\n"
     ]
    }
   ],
   "source": [
    "data={\n",
    "    \"Name\": [\"John\", \"Emma\", \"Liam\", \"Olivia\", \"Noah\"],\n",
    "    \"Age\": [25, 28, 24, 27, 26],\n",
    "    \"Score\": [85, 92, 78, 90, 88]\n",
    "}\n",
    "\n",
    "df=pd.DataFrame(data)\n",
    "print(df)\n",
    "print()\n",
    "print(df.head(3))\n",
    "print()\n",
    "print(df.describe())\n",
    "print()\n",
    "print(df.shape)\n",
    "print()\n",
    "print(df.columns)\n",
    "print()\n",
    "print(df.index)\n",
    "print()\n",
    "print(df.loc[2:3, \"Name\":\"Score\"])\n",
    "print()\n",
    "print(df.sort_values(\"Score\", ascending=False))\n",
    "print()\n",
    "print(df)\n",
    "print()"
   ]
  },
  {
   "cell_type": "code",
   "execution_count": 48,
   "metadata": {},
   "outputs": [
    {
     "name": "stdout",
     "output_type": "stream",
     "text": [
      "   Department  Student ID Name      Subject  Score Grade\n",
      "0        Comp      202301   S1  Programming     96     A\n",
      "1        Comp      202301   S1     Calculus     91     A\n",
      "2        Comp      202301   S1      Physics     91     A\n",
      "3        Comp      202301   S1    Chemistry     80     B\n",
      "4        Chem      202302   S2  Programming     80     B\n",
      "5        Chem      202302   S2     Calculus     96     A\n",
      "6        Chem      202302   S2      Physics     98     A\n",
      "7        Chem      202302   S2    Chemistry     87     B\n",
      "8        Life      202303   S3  Programming     98     A\n",
      "9        Life      202303   S3     Calculus     87     B\n",
      "10       Life      202303   S3      Physics     85     B\n",
      "11       Life      202303   S3    Chemistry     80     B\n",
      "12       Semi      202304   S4  Programming     81     B\n",
      "13       Semi      202304   S4     Calculus     98     A\n",
      "14       Semi      202304   S4      Physics     83     B\n",
      "15       Semi      202304   S4    Chemistry     80     B\n"
     ]
    }
   ],
   "source": [
    "departments=[\"Comp\", \"Chem\", \"Life\", \"Semi\"]\n",
    "student_ids=[202301, 202302, 202303, 202304]\n",
    "names=[\"S1\", \"S2\", \"S3\", \"S4\"]\n",
    "subjects=[\"Programming\", \"Calculus\", \"Physics\", \"Chemistry\"]\n",
    "\n",
    "data=[]\n",
    "\n",
    "for i in range(len(names)):\n",
    "    scores=[random.randint(80, 100) for _ in range(len(subjects))]\n",
    "    grades=[]\n",
    "    for score in scores:\n",
    "        if score>=90:\n",
    "            grades.append(\"A\")\n",
    "        elif score>=80:\n",
    "            grades.append(\"B\")\n",
    "        elif score>=70:\n",
    "            grades.append(\"C\")\n",
    "        else:\n",
    "            grades.append(\"F\")\n",
    "\n",
    "    for j in range(len(subjects)):\n",
    "        data.append([departments[i], student_ids[i], names[i], subjects[j], scores[j], grades[j]])\n",
    "\n",
    "df=pd.DataFrame(data, columns=[\"Department\", \"Student ID\", \"Name\", \"Subject\", \"Score\", \"Grade\"])\n",
    "print(df)"
   ]
  },
  {
   "cell_type": "code",
   "execution_count": 64,
   "metadata": {},
   "outputs": [
    {
     "name": "stdout",
     "output_type": "stream",
     "text": [
      "  Student ID Name Department  GPA\n",
      "0     202401   S1       Comp  4.3\n",
      "1     202402   S2       Math  4.3\n",
      "2     202403   S3    Physics  4.3\n",
      "3     202404   S4       Chem  4.3\n",
      "\n",
      "  Student ID Name Department  GPA\n",
      "1     202402   S2       Math  4.3\n",
      "\n",
      "  Student ID Name Department  GPA\n",
      "0     202401   S1       Comp  4.3\n",
      "1     202402   S2       Math  4.3\n",
      "3     202404   S4       Chem  4.3\n",
      "\n"
     ]
    },
    {
     "name": "stderr",
     "output_type": "stream",
     "text": [
      "C:\\Users\\jkpxt\\AppData\\Local\\Temp\\ipykernel_5668\\233245363.py:12: FutureWarning: The behavior of DataFrame concatenation with empty or all-NA entries is deprecated. In a future version, this will no longer exclude empty or all-NA columns when determining the result dtypes. To retain the old behavior, exclude the relevant entries before the concat operation.\n",
      "  self.df=pd.concat([self.df, new_student], ignore_index=True)\n"
     ]
    }
   ],
   "source": [
    "class StudentManagement:\n",
    "    def __init__(self):\n",
    "        self.df=pd.DataFrame(columns=[\"Student ID\", \"Name\", \"Department\", \"GPA\"])\n",
    "    \n",
    "    def add_student(self, studentID, name, department, gpa):\n",
    "        new_student=pd.DataFrame([{\n",
    "            \"Student ID\": studentID,\n",
    "            \"Name\": name,\n",
    "            \"Department\": department,\n",
    "            \"GPA\": gpa\n",
    "        }])\n",
    "        self.df=pd.concat([self.df, new_student], ignore_index=True)\n",
    "\n",
    "    def remove_student(self, studentID):\n",
    "        if studentID in self.df[\"Student ID\"].values:\n",
    "            self.df=self.df[self.df[\"Student ID\"]!=studentID]\n",
    "        else:\n",
    "            print(\"Student doesn't exist.\")\n",
    "\n",
    "    def search_student(self, studentID):\n",
    "        if studentID in self.df[\"Student ID\"].values:\n",
    "            student=self.df.loc[self.df[\"Student ID\"]==studentID]\n",
    "            print(student)\n",
    "        else:\n",
    "            print(\"Student doesn't exist.\")\n",
    "\n",
    "    def display_students(self):\n",
    "        print(self.df)\n",
    "\n",
    "studentManagement=StudentManagement()\n",
    "studentManagement.add_student(202401, \"S1\", \"Comp\", 4.3)\n",
    "studentManagement.add_student(202402, \"S2\", \"Math\", 4.3)\n",
    "studentManagement.add_student(202403, \"S3\", \"Physics\", 4.3)\n",
    "studentManagement.add_student(202404, \"S4\", \"Chem\", 4.3)\n",
    "\n",
    "studentManagement.display_students()\n",
    "print()\n",
    "studentManagement.search_student(202402)\n",
    "print()\n",
    "studentManagement.remove_student(202403)\n",
    "studentManagement.display_students()\n",
    "print()"
   ]
  },
  {
   "cell_type": "code",
   "execution_count": 69,
   "metadata": {},
   "outputs": [
    {
     "name": "stdout",
     "output_type": "stream",
     "text": [
      "   우수반  수학반\n",
      "김  750  500\n",
      "이  805  480\n",
      "박  815  535\n",
      "최  787  449\n"
     ]
    }
   ],
   "source": [
    "student_scores=pd.DataFrame({\n",
    "    \"국어\": [80, 75, 90, 99],\n",
    "    \"수학\": [90, 80, 95, 70],\n",
    "    \"영어\": [60, 85, 65, 70]\n",
    "}, index=[\"김\", \"이\", \"박\", \"최\"])\n",
    "\n",
    "weights=pd.DataFrame({\n",
    "    \"우수반\": [3, 3, 4],\n",
    "    \"수학반\": [1, 4, 1]\n",
    "}, index=[\"국어\", \"수학\", \"영어\"])\n",
    "\n",
    "result=student_scores.dot(weights)\n",
    "\n",
    "print(result)"
   ]
  }
 ],
 "metadata": {
  "kernelspec": {
   "display_name": "Python 3",
   "language": "python",
   "name": "python3"
  },
  "language_info": {
   "codemirror_mode": {
    "name": "ipython",
    "version": 3
   },
   "file_extension": ".py",
   "mimetype": "text/x-python",
   "name": "python",
   "nbconvert_exporter": "python",
   "pygments_lexer": "ipython3",
   "version": "3.12.10"
  }
 },
 "nbformat": 4,
 "nbformat_minor": 2
}
