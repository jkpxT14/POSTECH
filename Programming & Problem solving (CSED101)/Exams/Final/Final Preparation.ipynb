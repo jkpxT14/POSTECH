{
 "cells": [
  {
   "cell_type": "markdown",
   "metadata": {},
   "source": [
    "Final"
   ]
  },
  {
   "cell_type": "markdown",
   "metadata": {},
   "source": [
    "Lecture 10"
   ]
  },
  {
   "cell_type": "code",
   "execution_count": 28,
   "metadata": {},
   "outputs": [
    {
     "name": "stdout",
     "output_type": "stream",
     "text": [
      "Red 2212471901472 Blue 2212471901712\n",
      "0 140703680711064 30 140703680712024\n",
      "3\n",
      "140\n",
      "150\n"
     ]
    }
   ],
   "source": [
    "class Car:\n",
    "    color=\"Red\"\n",
    "    speed=0\n",
    "    count=0\n",
    "\n",
    "    def __init__(self, color=\"Green\", speed=0):\n",
    "        self.color=color\n",
    "        self.speed=speed\n",
    "        Car.count+=1\n",
    "\n",
    "    def upSpeed(self, value):\n",
    "        self.speed+=value\n",
    "    def downSpeed(self, value):\n",
    "        self.speed-=value\n",
    "\n",
    "class Sedan(Car):\n",
    "    seatNum=0\n",
    "\n",
    "    def __init__(self, color=\"Green\", speed=0, seatNum=0):\n",
    "        super().__init__(color, speed)\n",
    "        self.seatNum=seatNum\n",
    "\n",
    "    def upSpeed(self, value):\n",
    "        super().upSpeed(value)\n",
    "        if self.speed>150:\n",
    "            self.speed=150\n",
    "\n",
    "class Truck(Car):\n",
    "    capacity=0\n",
    "\n",
    "    def __init__(self, color=\"Green\", speed=0, capacity=0):\n",
    "        super().__init__(color, speed)\n",
    "        self.capacity=capacity\n",
    "\n",
    "myCar1=Car()\n",
    "myCar2=Car()\n",
    "myCar3=Car()\n",
    "myCar3.color=\"Blue\"\n",
    "myCar1.upSpeed(30)\n",
    "\n",
    "print(Car.color, id(Car.color), myCar3.color, id(myCar3.color))\n",
    "print(Car.speed, id(Car.speed), myCar1.speed, id(myCar1.speed))\n",
    "print(Car.count)\n",
    "\n",
    "sedan1=Sedan()\n",
    "truck1=Truck()\n",
    "sedan1.seatNum=5\n",
    "truck1.capacity=50\n",
    "\n",
    "sedan1.upSpeed(140)\n",
    "print(sedan1.speed)\n",
    "sedan1.upSpeed(50)\n",
    "print(sedan1.speed)"
   ]
  },
  {
   "cell_type": "code",
   "execution_count": 30,
   "metadata": {},
   "outputs": [
    {
     "name": "stdout",
     "output_type": "stream",
     "text": [
      "(3, 1)\n"
     ]
    }
   ],
   "source": [
    "a=10\n",
    "b=3\n",
    "print(divmod(a, b))"
   ]
  },
  {
   "cell_type": "code",
   "execution_count": 39,
   "metadata": {},
   "outputs": [
    {
     "name": "stdout",
     "output_type": "stream",
     "text": [
      "90\n",
      "190 None\n",
      "240\n"
     ]
    }
   ],
   "source": [
    "# Operator Overloading\n",
    "\n",
    "class NumBox:\n",
    "    def __init__(self, num):\n",
    "        self.num=num\n",
    "    def __add__(self, num):\n",
    "        self.num+=num\n",
    "    def __radd__(self, num):\n",
    "        self.num+=num\n",
    "    def __sub__(self, num):\n",
    "        self.num-=num\n",
    "    def __rsub__(self, num):\n",
    "        self.num-=num\n",
    "\n",
    "m=NumBox(40)\n",
    "m+50\n",
    "print(m.num)\n",
    "\n",
    "n=m+100\n",
    "print(m.num, n)\n",
    "\n",
    "50+m\n",
    "print(m.num)"
   ]
  },
  {
   "cell_type": "code",
   "execution_count": 40,
   "metadata": {},
   "outputs": [
    {
     "name": "stdout",
     "output_type": "stream",
     "text": [
      "dog1: 멍멍!\n",
      "dog2: 멍멍!\n",
      "cat1: 냐옹~\n"
     ]
    }
   ],
   "source": [
    "# Polymorphism\n",
    "\n",
    "class Animal:\n",
    "    def __init__(self, name):\n",
    "        self.name=name\n",
    "    def speak(self):\n",
    "        print(f\"{self.name}: 알 수 없음.\")\n",
    "\n",
    "class Dog(Animal):\n",
    "    def speak(self):\n",
    "        print(f\"{self.name}: 멍멍!\")\n",
    "\n",
    "class Cat(Animal):\n",
    "    def speak(self):\n",
    "        print(f\"{self.name}: 냐옹~\")\n",
    "\n",
    "animalList=[Dog(\"dog1\"), Dog(\"dog2\"), Cat(\"cat1\")]\n",
    "\n",
    "for a in animalList:\n",
    "    a.speak()"
   ]
  },
  {
   "cell_type": "markdown",
   "metadata": {},
   "source": [
    "Lecture 11"
   ]
  },
  {
   "cell_type": "markdown",
   "metadata": {},
   "source": [
    "Lecture 12"
   ]
  },
  {
   "cell_type": "markdown",
   "metadata": {},
   "source": [
    "Lecture 13"
   ]
  },
  {
   "cell_type": "markdown",
   "metadata": {},
   "source": [
    "Lecture 14"
   ]
  },
  {
   "cell_type": "markdown",
   "metadata": {},
   "source": [
    "Lecture 15"
   ]
  },
  {
   "cell_type": "markdown",
   "metadata": {},
   "source": [
    "Lecture 16"
   ]
  }
 ],
 "metadata": {
  "kernelspec": {
   "display_name": "Python 3",
   "language": "python",
   "name": "python3"
  },
  "language_info": {
   "codemirror_mode": {
    "name": "ipython",
    "version": 3
   },
   "file_extension": ".py",
   "mimetype": "text/x-python",
   "name": "python",
   "nbconvert_exporter": "python",
   "pygments_lexer": "ipython3",
   "version": "3.12.10"
  }
 },
 "nbformat": 4,
 "nbformat_minor": 2
}
