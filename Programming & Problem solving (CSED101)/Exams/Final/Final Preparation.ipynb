{
 "cells": [
  {
   "cell_type": "markdown",
   "metadata": {},
   "source": [
    "Final"
   ]
  },
  {
   "cell_type": "markdown",
   "metadata": {},
   "source": [
    "Lecture 10"
   ]
  },
  {
   "cell_type": "code",
   "execution_count": 28,
   "metadata": {},
   "outputs": [
    {
     "name": "stdout",
     "output_type": "stream",
     "text": [
      "Red 2212471901472 Blue 2212471901712\n",
      "0 140703680711064 30 140703680712024\n",
      "3\n",
      "140\n",
      "150\n"
     ]
    }
   ],
   "source": [
    "class Car:\n",
    "    color=\"Red\"\n",
    "    speed=0\n",
    "    count=0\n",
    "\n",
    "    def __init__(self, color=\"Green\", speed=0):\n",
    "        self.color=color\n",
    "        self.speed=speed\n",
    "        Car.count+=1\n",
    "\n",
    "    def upSpeed(self, value):\n",
    "        self.speed+=value\n",
    "    def downSpeed(self, value):\n",
    "        self.speed-=value\n",
    "\n",
    "class Sedan(Car):\n",
    "    seatNum=0\n",
    "\n",
    "    def __init__(self, color=\"Green\", speed=0, seatNum=0):\n",
    "        super().__init__(color, speed)\n",
    "        self.seatNum=seatNum\n",
    "\n",
    "    def upSpeed(self, value):\n",
    "        super().upSpeed(value)\n",
    "        if self.speed>150:\n",
    "            self.speed=150\n",
    "\n",
    "class Truck(Car):\n",
    "    capacity=0\n",
    "\n",
    "    def __init__(self, color=\"Green\", speed=0, capacity=0):\n",
    "        super().__init__(color, speed)\n",
    "        self.capacity=capacity\n",
    "\n",
    "myCar1=Car()\n",
    "myCar2=Car()\n",
    "myCar3=Car()\n",
    "myCar3.color=\"Blue\"\n",
    "myCar1.upSpeed(30)\n",
    "\n",
    "print(Car.color, id(Car.color), myCar3.color, id(myCar3.color))\n",
    "print(Car.speed, id(Car.speed), myCar1.speed, id(myCar1.speed))\n",
    "print(Car.count)\n",
    "\n",
    "sedan1=Sedan()\n",
    "truck1=Truck()\n",
    "sedan1.seatNum=5\n",
    "truck1.capacity=50\n",
    "\n",
    "sedan1.upSpeed(140)\n",
    "print(sedan1.speed)\n",
    "sedan1.upSpeed(50)\n",
    "print(sedan1.speed)"
   ]
  },
  {
   "cell_type": "code",
   "execution_count": 30,
   "metadata": {},
   "outputs": [
    {
     "name": "stdout",
     "output_type": "stream",
     "text": [
      "(3, 1)\n"
     ]
    }
   ],
   "source": [
    "a=10\n",
    "b=3\n",
    "print(divmod(a, b))"
   ]
  },
  {
   "cell_type": "code",
   "execution_count": 39,
   "metadata": {},
   "outputs": [
    {
     "name": "stdout",
     "output_type": "stream",
     "text": [
      "90\n",
      "190 None\n",
      "240\n"
     ]
    }
   ],
   "source": [
    "# Operator Overloading\n",
    "\n",
    "class NumBox:\n",
    "    def __init__(self, num):\n",
    "        self.num=num\n",
    "    def __add__(self, num):\n",
    "        self.num+=num\n",
    "    def __radd__(self, num):\n",
    "        self.num+=num\n",
    "    def __sub__(self, num):\n",
    "        self.num-=num\n",
    "    def __rsub__(self, num):\n",
    "        self.num-=num\n",
    "\n",
    "m=NumBox(40)\n",
    "m+50\n",
    "print(m.num)\n",
    "\n",
    "n=m+100\n",
    "print(m.num, n)\n",
    "\n",
    "50+m\n",
    "print(m.num)"
   ]
  },
  {
   "cell_type": "code",
   "execution_count": 40,
   "metadata": {},
   "outputs": [
    {
     "name": "stdout",
     "output_type": "stream",
     "text": [
      "dog1: 멍멍!\n",
      "dog2: 멍멍!\n",
      "cat1: 냐옹~\n"
     ]
    }
   ],
   "source": [
    "# Polymorphism\n",
    "\n",
    "class Animal:\n",
    "    def __init__(self, name):\n",
    "        self.name=name\n",
    "    def speak(self):\n",
    "        print(f\"{self.name}: 알 수 없음.\")\n",
    "\n",
    "class Dog(Animal):\n",
    "    def speak(self):\n",
    "        print(f\"{self.name}: 멍멍!\")\n",
    "\n",
    "class Cat(Animal):\n",
    "    def speak(self):\n",
    "        print(f\"{self.name}: 냐옹~\")\n",
    "\n",
    "animalList=[Dog(\"dog1\"), Dog(\"dog2\"), Cat(\"cat1\")]\n",
    "\n",
    "for a in animalList:\n",
    "    a.speak()"
   ]
  },
  {
   "cell_type": "markdown",
   "metadata": {},
   "source": [
    "Lecture 11"
   ]
  },
  {
   "cell_type": "markdown",
   "metadata": {},
   "source": [
    "Lecture 12"
   ]
  },
  {
   "cell_type": "code",
   "execution_count": 5,
   "metadata": {},
   "outputs": [
    {
     "name": "stdout",
     "output_type": "stream",
     "text": [
      "[5, 3, 8, 4, 9, 1, 6, 2, 7]\n",
      "[1, 2, 3, 4, 5, 6, 7, 8, 9]\n"
     ]
    }
   ],
   "source": [
    "def bubble_sort(arr):\n",
    "    for i in range(len(arr)-1):\n",
    "        for j in range(len(arr)-i-1):\n",
    "            if arr[j]>arr[j+1]:\n",
    "                arr[j], arr[j+1] = arr[j+1], arr[j]\n",
    "    return arr\n",
    "\n",
    "arr=[5, 3, 8, 4, 9, 1, 6, 2, 7]\n",
    "print(arr)\n",
    "print(bubble_sort(arr))"
   ]
  },
  {
   "cell_type": "code",
   "execution_count": 7,
   "metadata": {},
   "outputs": [
    {
     "name": "stdout",
     "output_type": "stream",
     "text": [
      "[64, 34, 25, 12, 22, 11, 90]\n",
      "[11, 12, 22, 25, 34, 64, 90]\n"
     ]
    }
   ],
   "source": [
    "class BubbleSort:\n",
    "    def __init__(self, data):\n",
    "        self.data=data\n",
    "\n",
    "    def sort(self):\n",
    "        n=len(self.data)\n",
    "        for i in range(n-1):\n",
    "            swapped=False\n",
    "            for j in range(n-i-1):\n",
    "                if self.data[j]>self.data[j+1]:\n",
    "                    self.data[j], self.data[j+1] = self.data[j+1], self.data[j]\n",
    "                    swapped=True\n",
    "            if not swapped:\n",
    "                break\n",
    "\n",
    "    def __str__(self):\n",
    "        return str(self.data)\n",
    "    \n",
    "data=[64, 34, 25, 12, 22, 11, 90]\n",
    "bubbleSort=BubbleSort(data)\n",
    "print(data)\n",
    "bubbleSort.sort()\n",
    "print(bubbleSort)"
   ]
  },
  {
   "cell_type": "code",
   "execution_count": 13,
   "metadata": {},
   "outputs": [
    {
     "name": "stdout",
     "output_type": "stream",
     "text": [
      "[1, 1, 2, 3, 3, 4, 5, 5, 5, 6, 9]\n",
      "[9, 6, 5, 5, 5, 4, 3, 3, 2, 1, 1]\n"
     ]
    }
   ],
   "source": [
    "numbers=[3, 1, 4, 1, 5, 9, 2, 6, 5, 3, 5]\n",
    "numbers.sort()\n",
    "print(numbers)\n",
    "\n",
    "numbers.sort(reverse=True)\n",
    "print(numbers)"
   ]
  },
  {
   "cell_type": "code",
   "execution_count": 14,
   "metadata": {},
   "outputs": [
    {
     "name": "stdout",
     "output_type": "stream",
     "text": [
      "[1, 1, 2, 3, 3, 4, 5, 5, 5, 6, 9]\n",
      "[3, 1, 4, 1, 5, 9, 2, 6, 5, 3, 5]\n",
      "[9, 6, 5, 5, 5, 4, 3, 3, 2, 1, 1]\n",
      "[3, 1, 4, 1, 5, 9, 2, 6, 5, 3, 5]\n"
     ]
    }
   ],
   "source": [
    "numbers=[3, 1, 4, 1, 5, 9, 2, 6, 5, 3, 5]\n",
    "print(sorted(numbers))\n",
    "print(numbers)\n",
    "\n",
    "print(sorted(numbers, reverse=True))\n",
    "print(numbers)"
   ]
  },
  {
   "cell_type": "code",
   "execution_count": 17,
   "metadata": {},
   "outputs": [
    {
     "name": "stdout",
     "output_type": "stream",
     "text": [
      "2\n",
      "2\n"
     ]
    }
   ],
   "source": [
    "class SearchAlgorithms:\n",
    "    def __init__(self, data):\n",
    "        self.data=data\n",
    "\n",
    "    def sequential_search(self, target): # linear_search\n",
    "        for index, value in enumerate(self.data):\n",
    "            if value==target:\n",
    "                return index\n",
    "        return -1\n",
    "\n",
    "    def binary_search(self, target):\n",
    "        self.data.sort()\n",
    "        left, right = 0, len(self.data)-1\n",
    "        while left<=right:\n",
    "            mid=(left+right)//2\n",
    "            if self.data[mid]==target:\n",
    "                return mid\n",
    "            elif self.data[mid]<target:\n",
    "                left=mid+1\n",
    "            elif self.data[mid]>target:\n",
    "                right=mid-1\n",
    "        return -1\n",
    "    \n",
    "data=[34, 7, 23, 32, 5, 62]\n",
    "searchAlgorithms=SearchAlgorithms(data)\n",
    "target=23\n",
    "print(searchAlgorithms.sequential_search(target))\n",
    "print(searchAlgorithms.binary_search(target))\n"
   ]
  },
  {
   "cell_type": "markdown",
   "metadata": {},
   "source": [
    "Lecture 13"
   ]
  },
  {
   "cell_type": "markdown",
   "metadata": {},
   "source": [
    "Lecture 14"
   ]
  },
  {
   "cell_type": "markdown",
   "metadata": {},
   "source": [
    "Lecture 15"
   ]
  },
  {
   "cell_type": "markdown",
   "metadata": {},
   "source": [
    "Lecture 16"
   ]
  }
 ],
 "metadata": {
  "kernelspec": {
   "display_name": "Python 3",
   "language": "python",
   "name": "python3"
  },
  "language_info": {
   "codemirror_mode": {
    "name": "ipython",
    "version": 3
   },
   "file_extension": ".py",
   "mimetype": "text/x-python",
   "name": "python",
   "nbconvert_exporter": "python",
   "pygments_lexer": "ipython3",
   "version": "3.12.10"
  }
 },
 "nbformat": 4,
 "nbformat_minor": 2
}
