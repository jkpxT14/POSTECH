{
 "cells": [
  {
   "cell_type": "markdown",
   "metadata": {},
   "source": [
    "Midterm"
   ]
  },
  {
   "cell_type": "code",
   "execution_count": 31,
   "metadata": {},
   "outputs": [
    {
     "name": "stdout",
     "output_type": "stream",
     "text": [
      "20 10\n"
     ]
    }
   ],
   "source": [
    "a=10\n",
    "b=20\n",
    "a, b = b, a\n",
    "print(a, b)"
   ]
  },
  {
   "cell_type": "code",
   "execution_count": 32,
   "metadata": {},
   "outputs": [
    {
     "name": "stdout",
     "output_type": "stream",
     "text": [
      "[1, 2, 3, 4]\n"
     ]
    }
   ],
   "source": [
    "list1=[1, 2, 3]\n",
    "list2=list1\n",
    "list2.append(4)\n",
    "print(list1)"
   ]
  },
  {
   "cell_type": "code",
   "execution_count": 33,
   "metadata": {},
   "outputs": [
    {
     "name": "stdout",
     "output_type": "stream",
     "text": [
      "[1, 2, 3, 4] [1, 2, 3]\n"
     ]
    }
   ],
   "source": [
    "import copy\n",
    "\n",
    "a=[1, 2, 3]\n",
    "b=copy.deepcopy(a)\n",
    "a.append(4)\n",
    "print(a, b)"
   ]
  },
  {
   "cell_type": "markdown",
   "metadata": {},
   "source": [
    "Lecture 3"
   ]
  },
  {
   "cell_type": "code",
   "execution_count": 34,
   "metadata": {},
   "outputs": [
    {
     "name": "stdout",
     "output_type": "stream",
     "text": [
      "100 / 200 = 0\n",
      "100 / 200 = 0.500000\n",
      "100 / 200 =   0.5\n",
      "123\n",
      "  123\n",
      "00123\n",
      "123.450000\n",
      "  123.5\n",
      "123.450\n",
      "Python\n",
      "    Python\n",
      "123   123 00123\n"
     ]
    }
   ],
   "source": [
    "print(\"%d / %d = %d\" % (100, 200, 0.5))\n",
    "print(\"%d / %d = %f\" % (100, 200, 0.5))\n",
    "print(\"%d / %d = %5.1f\" % (100, 200, 0.5))\n",
    "\n",
    "print(\"%d\" % 123)\n",
    "print(\"%5d\" % 123)\n",
    "print(\"%05d\" % 123)\n",
    "\n",
    "print(\"%f\" % 123.45)\n",
    "print(\"%7.1f\" % 123.45)\n",
    "print(\"%7.3f\" % 123.45)\n",
    "\n",
    "print(\"%s\" % \"Python\")\n",
    "print(\"%10s\" % \"Python\")\n",
    "\n",
    "print(\"{0:d} {1:5d} {2:05d}\".format(123, 123, 123))"
   ]
  },
  {
   "cell_type": "code",
   "execution_count": 35,
   "metadata": {},
   "outputs": [
    {
     "name": "stdout",
     "output_type": "stream",
     "text": [
      "글자가 '강조'되는 효과1\n",
      "글자가 \"강조\"되는 효과2\n",
      "\\n \\t \\\\ \\' \\\" 를 그대로 출력\n"
     ]
    }
   ],
   "source": [
    "print(\"글자가 \\'강조\\'되는 효과1\")\n",
    "print(\"글자가 \\\"강조\\\"되는 효과2\")\n",
    "\n",
    "print(r\"\\n \\t \\\\ \\' \\\" 를 그대로 출력\")"
   ]
  },
  {
   "cell_type": "code",
   "execution_count": 36,
   "metadata": {},
   "outputs": [
    {
     "name": "stdout",
     "output_type": "stream",
     "text": [
      "학생 이름:\n",
      "김정우, 설경민, 변재경, 김태영, 공태현, "
     ]
    }
   ],
   "source": [
    "Names=[]\n",
    "while True:\n",
    "    name=input(\"학생 이름을 입력하세요: \")\n",
    "    if name==\"\":\n",
    "        break\n",
    "    Names.append(name)\n",
    "\n",
    "print(\"학생 이름:\")\n",
    "for name in Names:\n",
    "    print(name, end=\", \")"
   ]
  },
  {
   "cell_type": "markdown",
   "metadata": {},
   "source": [
    "Lecture 4"
   ]
  },
  {
   "cell_type": "code",
   "execution_count": 37,
   "metadata": {},
   "outputs": [
    {
     "name": "stdout",
     "output_type": "stream",
     "text": [
      "[2, 3]\n",
      "[0, 1]\n"
     ]
    }
   ],
   "source": [
    "def spam(eggs):\n",
    "    eggs.append(1)\n",
    "    eggs=[2, 3]\n",
    "    print(eggs)\n",
    "\n",
    "ham=[0]\n",
    "spam(ham)\n",
    "print(ham)"
   ]
  },
  {
   "cell_type": "code",
   "execution_count": 38,
   "metadata": {},
   "outputs": [
    {
     "name": "stdout",
     "output_type": "stream",
     "text": [
      "30\n",
      "10 20\n",
      "20 10\n",
      "10 20\n",
      "[80, 90]\n",
      "[90, 80]\n",
      "[90, 80]\n"
     ]
    }
   ],
   "source": [
    "def sum(a, b):\n",
    "    return a+b\n",
    "\n",
    "def swap01(a, b):\n",
    "    a, b = b, a\n",
    "    print(a, b)\n",
    "\n",
    "def swap02(list1):\n",
    "    list1[0], list1[1] = list1[1], list1[0]\n",
    "    print(list1)\n",
    "\n",
    "a=10; b=20\n",
    "\n",
    "result=sum(a, b)\n",
    "print(result)\n",
    "\n",
    "print(a, b)\n",
    "swap01(a, b)\n",
    "print(a, b)\n",
    "\n",
    "list1=[80, 90]\n",
    "print(list1)\n",
    "swap02(list1)\n",
    "print(list1)"
   ]
  },
  {
   "cell_type": "code",
   "execution_count": 39,
   "metadata": {},
   "outputs": [
    {
     "name": "stdout",
     "output_type": "stream",
     "text": [
      "30\n",
      "10 20\n",
      "20 10\n",
      "20 10\n",
      "[80, 90]\n",
      "[90, 80]\n",
      "[90, 80]\n"
     ]
    }
   ],
   "source": [
    "def sum(a, b):\n",
    "    return a+b\n",
    "\n",
    "def swap01(a, b):\n",
    "    a, b = b, a\n",
    "    print(a, b)\n",
    "    return a, b\n",
    "\n",
    "def swap02(list1):\n",
    "    list1[0], list1[1] = list1[1], list1[0]\n",
    "    print(list1)\n",
    "\n",
    "a=10; b=20\n",
    "\n",
    "result=sum(a, b)\n",
    "print(result)\n",
    "\n",
    "print(a, b)\n",
    "a, b = swap01(a, b)\n",
    "print(a, b)\n",
    "\n",
    "list1=[80, 90]\n",
    "print(list1)\n",
    "swap02(list1)\n",
    "print(list1)"
   ]
  },
  {
   "cell_type": "code",
   "execution_count": 40,
   "metadata": {},
   "outputs": [
    {
     "name": "stdout",
     "output_type": "stream",
     "text": [
      "8\n"
     ]
    }
   ],
   "source": [
    "sum_func=lambda a, b: a+b\n",
    "result=sum_func(3, 5)\n",
    "print(result)"
   ]
  },
  {
   "cell_type": "code",
   "execution_count": 41,
   "metadata": {},
   "outputs": [
    {
     "name": "stdout",
     "output_type": "stream",
     "text": [
      "['Alice', 'Bob', 'John', 'Peter']\n",
      "['Bob', 'John', 'Alice', 'Peter']\n",
      "['Bob', 'John', 'Alice', 'Peter']\n",
      "['Bob', 'John', 'Alice', 'Peter']\n"
     ]
    }
   ],
   "source": [
    "Names=[\"John\", \"Alice\", \"Peter\", \"Bob\"]\n",
    "sorted_Names=sorted(Names)\n",
    "print(sorted_Names)\n",
    "\n",
    "Names=[\"John\", \"Alice\", \"Peter\", \"Bob\"]\n",
    "sorted_Names=sorted(Names, key=len)\n",
    "print(sorted_Names)\n",
    "\n",
    "Names=[\"John\", \"Alice\", \"Peter\", \"Bob\"]\n",
    "sorted_Names=sorted(Names, key=lambda x: len(x))\n",
    "print(sorted_Names)\n",
    "\n",
    "Names=[\"John\", \"Alice\", \"Peter\", \"Bob\"]\n",
    "sorted_Names=sorted(Names, key=lambda x: (len(x), x))\n",
    "print(sorted_Names)"
   ]
  },
  {
   "cell_type": "code",
   "execution_count": 42,
   "metadata": {},
   "outputs": [
    {
     "name": "stdout",
     "output_type": "stream",
     "text": [
      "q 은 사용할 수 있는 변수 이름임.\n"
     ]
    }
   ],
   "source": [
    "import keyword\n",
    "\n",
    "name=input(\"변수 이름을 입력하시오: \")\n",
    "if keyword.iskeyword(name):\n",
    "    print(name, \"은 예약어임.\")\n",
    "    print(\"아래는 키워드의 전체 리스트임: \")\n",
    "    print(keyword.kwlist)\n",
    "else:\n",
    "    print(name, \"은 사용할 수 있는 변수 이름임.\")"
   ]
  },
  {
   "cell_type": "code",
   "execution_count": 43,
   "metadata": {},
   "outputs": [
    {
     "name": "stdout",
     "output_type": "stream",
     "text": [
      "무작위 정수: 1\n",
      "무작위 실수: 0.5673832393525056\n",
      "무작위로 섞인 리스트: [5, 1, 2, 3, 4]\n",
      "무작위로 선택된 요소: 3\n"
     ]
    }
   ],
   "source": [
    "import random\n",
    "\n",
    "random_int=random.randint(1, 10)\n",
    "print(\"무작위 정수:\", random_int)\n",
    "\n",
    "random_float=random.random()\n",
    "print(\"무작위 실수:\", random_float)\n",
    "\n",
    "my_list=[1, 2, 3, 4, 5]\n",
    "random.shuffle(my_list)\n",
    "print(\"무작위로 섞인 리스트:\", my_list)\n",
    "\n",
    "my_list=[1, 2, 3, 4, 5]\n",
    "random_element=random.choice(my_list)\n",
    "print(\"무작위로 선택된 요소:\", random_element)"
   ]
  },
  {
   "cell_type": "code",
   "execution_count": 44,
   "metadata": {},
   "outputs": [],
   "source": [
    "import random\n",
    "\n",
    "def coin_toss():\n",
    "    coin=random.choice([\"앞면\", \"뒷면\"])\n",
    "    return coin\n",
    "\n",
    "def play_game():\n",
    "    while True:\n",
    "        response=input(\"동전 던지기를 계속하시겠습니까? (yes, no): \")\n",
    "        if response==\"yes\":\n",
    "            result=coin_toss()\n",
    "            print(\"동전 결과: \", result)\n",
    "        else:\n",
    "            break\n",
    "\n",
    "play_game()"
   ]
  },
  {
   "cell_type": "markdown",
   "metadata": {},
   "source": [
    "Lecture 5"
   ]
  },
  {
   "cell_type": "code",
   "execution_count": 45,
   "metadata": {},
   "outputs": [
    {
     "name": "stdout",
     "output_type": "stream",
     "text": [
      "10001\n",
      "10000\n",
      "10001\n",
      "10000\n",
      "Total: 9997\n"
     ]
    }
   ],
   "source": [
    "total=10000\n",
    "\n",
    "def add(value):\n",
    "    print(total+1)\n",
    "    print(total)\n",
    "\n",
    "def substract(value):\n",
    "    global total\n",
    "    total-=value\n",
    "\n",
    "def print_total():\n",
    "    print(f\"Total: {total}\")\n",
    "\n",
    "add(10)\n",
    "add(5)\n",
    "substract(3)\n",
    "print_total()"
   ]
  },
  {
   "cell_type": "code",
   "execution_count": 46,
   "metadata": {},
   "outputs": [
    {
     "name": "stdout",
     "output_type": "stream",
     "text": [
      "True\n"
     ]
    }
   ],
   "source": [
    "a=10\n",
    "b=10\n",
    "print(a is b)"
   ]
  },
  {
   "cell_type": "code",
   "execution_count": 47,
   "metadata": {},
   "outputs": [
    {
     "name": "stdout",
     "output_type": "stream",
     "text": [
      "False\n"
     ]
    }
   ],
   "source": [
    "x=[1, 2, 3]\n",
    "y=[1, 2, 3]\n",
    "print(x is y)"
   ]
  },
  {
   "cell_type": "code",
   "execution_count": 48,
   "metadata": {},
   "outputs": [
    {
     "name": "stdout",
     "output_type": "stream",
     "text": [
      "1950428242560\n",
      "1950428709184\n",
      "1950428242560\n",
      "140724077462440 140724077462440\n",
      "False\n",
      "True\n",
      "True\n"
     ]
    }
   ],
   "source": [
    "x=[1, 2, 3]\n",
    "y=[1, 2, 3]\n",
    "z=x\n",
    "\n",
    "print(id(x))\n",
    "print(id(y))\n",
    "print(id(z))\n",
    "print(id(x[0]), id(y[0]))\n",
    "\n",
    "print(x is y)\n",
    "print(x==y)\n",
    "print(x is z)"
   ]
  },
  {
   "cell_type": "code",
   "execution_count": 49,
   "metadata": {},
   "outputs": [
    {
     "name": "stdout",
     "output_type": "stream",
     "text": [
      "False\n",
      "True\n"
     ]
    }
   ],
   "source": [
    "print(1==0<1)\n",
    "print(1>0==0)"
   ]
  },
  {
   "cell_type": "markdown",
   "metadata": {},
   "source": [
    "Lecture 6"
   ]
  },
  {
   "cell_type": "code",
   "execution_count": 50,
   "metadata": {},
   "outputs": [
    {
     "name": "stdout",
     "output_type": "stream",
     "text": [
      "수식 계산 결과:  67\n"
     ]
    }
   ],
   "source": [
    "def calculate_expression(expression):\n",
    "    result=eval(expression)\n",
    "    print(\"수식 계산 결과: \", result)\n",
    "\n",
    "expression=input(\"계산할 수식을 입력하세요: \")\n",
    "calculate_expression(expression)"
   ]
  },
  {
   "cell_type": "code",
   "execution_count": 2,
   "metadata": {},
   "outputs": [
    {
     "name": "stdout",
     "output_type": "stream",
     "text": [
      "0: apple\n",
      "1: banana\n",
      "2: cherry\n"
     ]
    }
   ],
   "source": [
    "fruits=[\"apple\", \"banana\", \"cherry\"]\n",
    "for index, fruit in enumerate(fruits):\n",
    "    print(f\"{index}: {fruit}\")"
   ]
  },
  {
   "cell_type": "code",
   "execution_count": null,
   "metadata": {},
   "outputs": [
    {
     "name": "stdout",
     "output_type": "stream",
     "text": [
      "알 수 없는 오류 발생: division by zero\n"
     ]
    }
   ],
   "source": [
    "try:\n",
    "    a=int(input())\n",
    "    b=int(input())\n",
    "    result=a/b\n",
    "except ZeroDivisionError:\n",
    "    pass\n",
    "except Exception as e:\n",
    "    print(f\"알 수 없는 오류 발생: {e}\")\n",
    "else:\n",
    "    pass\n",
    "finally:\n",
    "    pass"
   ]
  },
  {
   "cell_type": "markdown",
   "metadata": {},
   "source": [
    "Lecture 7"
   ]
  },
  {
   "cell_type": "code",
   "execution_count": 6,
   "metadata": {},
   "outputs": [
    {
     "name": "stdout",
     "output_type": "stream",
     "text": [
      "[10, 50]\n"
     ]
    }
   ],
   "source": [
    "aa=[10, 20, 30, 40, 50]\n",
    "aa[1:4]=[]\n",
    "print(aa)"
   ]
  },
  {
   "cell_type": "code",
   "execution_count": 7,
   "metadata": {},
   "outputs": [
    {
     "name": "stdout",
     "output_type": "stream",
     "text": [
      "[1, 2, 1010, 3, 4, 5]\n"
     ]
    }
   ],
   "source": [
    "bb=[1, 2, 3, 4, 5]\n",
    "bb.insert(2, 1010)\n",
    "print(bb)"
   ]
  },
  {
   "cell_type": "code",
   "execution_count": 8,
   "metadata": {},
   "outputs": [
    {
     "name": "stdout",
     "output_type": "stream",
     "text": [
      "[1, 2, 3, 5]\n"
     ]
    }
   ],
   "source": [
    "cc=[1, 2, 3, 4, 5]\n",
    "del(cc[3])\n",
    "print(cc)"
   ]
  },
  {
   "cell_type": "code",
   "execution_count": null,
   "metadata": {},
   "outputs": [
    {
     "name": "stdout",
     "output_type": "stream",
     "text": [
      "  1   2   3   4 \n",
      "  5   6   7   8 \n",
      "  9  10  11  12 \n"
     ]
    }
   ],
   "source": [
    "list1=[]\n",
    "list2=[]\n",
    "value=1\n",
    "for i in range(0, 3):\n",
    "    for j in range(0, 4):\n",
    "        list1.append(value)\n",
    "        value+=1\n",
    "    list2.append(list1)\n",
    "    list1=[]\n",
    "\n",
    "for i in range(0, 3):\n",
    "    for j in range(0, 4):\n",
    "        print(f\"{list2[i][j]:3d}\", end=\" \")\n",
    "    print(\"\") # print(\"\\n\")"
   ]
  },
  {
   "cell_type": "code",
   "execution_count": 23,
   "metadata": {},
   "outputs": [
    {
     "name": "stdout",
     "output_type": "stream",
     "text": [
      "\n",
      "65\n"
     ]
    }
   ],
   "source": [
    "print()\n",
    "print(ord(\"A\"))"
   ]
  },
  {
   "cell_type": "markdown",
   "metadata": {},
   "source": [
    "Lecture 8"
   ]
  },
  {
   "cell_type": "code",
   "execution_count": null,
   "metadata": {},
   "outputs": [
    {
     "name": "stdout",
     "output_type": "stream",
     "text": [
      "[100, [65, 95, 88, 78, 95], [75, 88, 90, 97, 90]]\n"
     ]
    }
   ],
   "source": [
    "kor=[80, 75, 97, 77, 85]\n",
    "math=[65, 95, 88, 78, 95]\n",
    "eng=[75, 88, 90, 97, 90]\n",
    "\n",
    "mid=[kor, math, eng]\n",
    "mid[0]=100\n",
    "# mid[0][0]=100\n",
    "\n",
    "print(mid)"
   ]
  },
  {
   "cell_type": "code",
   "execution_count": 28,
   "metadata": {},
   "outputs": [
    {
     "name": "stdout",
     "output_type": "stream",
     "text": [
      "40\n"
     ]
    }
   ],
   "source": [
    "def da_test(a, b, c=10, d=20):\n",
    "    sum=a+b+c+d\n",
    "    return sum\n",
    "\n",
    "print(da_test(5, 5))"
   ]
  },
  {
   "cell_type": "code",
   "execution_count": 29,
   "metadata": {},
   "outputs": [
    {
     "name": "stdout",
     "output_type": "stream",
     "text": [
      "1\n",
      "2\n",
      "3\n",
      "4\n"
     ]
    }
   ],
   "source": [
    "def print_args(*args):\n",
    "    for arg in args:\n",
    "        print(arg)\n",
    "\n",
    "print_args(1, 2, 3, 4)"
   ]
  },
  {
   "cell_type": "code",
   "execution_count": 30,
   "metadata": {},
   "outputs": [
    {
     "name": "stdout",
     "output_type": "stream",
     "text": [
      "a=1\n",
      "b=2\n",
      "c=3\n"
     ]
    }
   ],
   "source": [
    "def print_kwargs(**kwargs):\n",
    "    for key, value in kwargs.items():\n",
    "        print(f\"{key}={value}\")\n",
    "\n",
    "print_kwargs(a=1, b=2, c=3)"
   ]
  },
  {
   "cell_type": "code",
   "execution_count": 31,
   "metadata": {},
   "outputs": [
    {
     "name": "stdout",
     "output_type": "stream",
     "text": [
      "deque([1, 2, 3])\n",
      "deque([1, 2, 3, 4])\n",
      "deque([1, 2, 3, 4, 5])\n",
      "deque([1, 2, 3, 4])\n",
      "deque([2, 3, 4])\n"
     ]
    }
   ],
   "source": [
    "from collections import deque\n",
    "\n",
    "dq=deque([1, 2, 3])\n",
    "print(dq)\n",
    "dq.append(4)\n",
    "print(dq)\n",
    "dq.append(5)\n",
    "print(dq)\n",
    "dq.pop()\n",
    "print(dq)\n",
    "dq.popleft()\n",
    "print(dq)"
   ]
  },
  {
   "cell_type": "code",
   "execution_count": null,
   "metadata": {},
   "outputs": [
    {
     "name": "stdout",
     "output_type": "stream",
     "text": [
      "b 100\n",
      "a 700\n",
      "d 300\n",
      "c 500\n",
      "e 200\n"
     ]
    }
   ],
   "source": [
    "from collections import OrderedDict\n",
    "\n",
    "od=OrderedDict()\n",
    "od[\"b\"]=100\n",
    "od[\"a\"]=700\n",
    "od[\"d\"]=300\n",
    "od[\"c\"]=500\n",
    "od[\"e\"]=200\n",
    "\n",
    "for key, value in od.items():\n",
    "    print(key, value)"
   ]
  },
  {
   "cell_type": "code",
   "execution_count": 33,
   "metadata": {},
   "outputs": [
    {
     "name": "stdout",
     "output_type": "stream",
     "text": [
      "a 700\n",
      "b 100\n",
      "c 500\n",
      "d 300\n",
      "e 200\n"
     ]
    }
   ],
   "source": [
    "from collections import OrderedDict\n",
    "\n",
    "def sort_by_key(t):\n",
    "    return t[0] # t[0] - key, t[1] - value\n",
    "\n",
    "od=OrderedDict()\n",
    "od[\"b\"]=100\n",
    "od[\"a\"]=700\n",
    "od[\"d\"]=300\n",
    "od[\"c\"]=500\n",
    "od[\"e\"]=200\n",
    "\n",
    "for key, value in OrderedDict(sorted(od.items(), key=sort_by_key)).items():\n",
    "    print(key, value)"
   ]
  },
  {
   "cell_type": "code",
   "execution_count": 34,
   "metadata": {},
   "outputs": [
    {
     "name": "stdout",
     "output_type": "stream",
     "text": [
      "Counter({'apple': 3, 'banana': 2, 'cherry': 2})\n"
     ]
    }
   ],
   "source": [
    "from collections import Counter\n",
    "\n",
    "fruits=[\"apple\", \"banana\", \"cherry\", \"apple\", \"cherry\", \"apple\", \"banana\"]\n",
    "fruit_count=Counter(fruits)\n",
    "print(fruit_count)"
   ]
  },
  {
   "cell_type": "markdown",
   "metadata": {},
   "source": [
    "Lecture 9"
   ]
  },
  {
   "cell_type": "code",
   "execution_count": null,
   "metadata": {},
   "outputs": [],
   "source": []
  }
 ],
 "metadata": {
  "kernelspec": {
   "display_name": "Python 3",
   "language": "python",
   "name": "python3"
  },
  "language_info": {
   "codemirror_mode": {
    "name": "ipython",
    "version": 3
   },
   "file_extension": ".py",
   "mimetype": "text/x-python",
   "name": "python",
   "nbconvert_exporter": "python",
   "pygments_lexer": "ipython3",
   "version": "3.13.2"
  }
 },
 "nbformat": 4,
 "nbformat_minor": 2
}
