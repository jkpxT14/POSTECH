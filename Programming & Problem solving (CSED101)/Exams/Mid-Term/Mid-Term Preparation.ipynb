{
 "cells": [
  {
   "cell_type": "markdown",
   "metadata": {},
   "source": [
    "Midterm"
   ]
  },
  {
   "cell_type": "markdown",
   "metadata": {},
   "source": [
    "Lecture 1"
   ]
  },
  {
   "cell_type": "code",
   "execution_count": 11,
   "metadata": {},
   "outputs": [
    {
     "name": "stdout",
     "output_type": "stream",
     "text": [
      "String: hello\n",
      "Integer: 20\n",
      "Float: 10.000000\n"
     ]
    }
   ],
   "source": [
    "mystring=\"hello\"\n",
    "myint=20\n",
    "myfloat=10.0\n",
    "\n",
    "if mystring==\"hello\":\n",
    "    print(\"String: %s\" % mystring)\n",
    "if isinstance(myint, int) and myint==20:\n",
    "    print(\"Integer: %d\" % myint)\n",
    "if isinstance(myfloat, float) and myfloat==10.0:\n",
    "    print(\"Float: %f\" % myfloat)"
   ]
  },
  {
   "cell_type": "code",
   "execution_count": 12,
   "metadata": {},
   "outputs": [
    {
     "name": "stdout",
     "output_type": "stream",
     "text": [
      "2.5\n",
      "2\n"
     ]
    }
   ],
   "source": [
    "number=1+2*3/4.0\n",
    "print(number)\n",
    "remainder=11%3\n",
    "print(remainder)"
   ]
  },
  {
   "cell_type": "code",
   "execution_count": 13,
   "metadata": {},
   "outputs": [
    {
     "name": "stdout",
     "output_type": "stream",
     "text": [
      "0\n",
      "1\n",
      "2\n",
      "3\n",
      "4\n",
      "count value reached 5\n",
      "1\n",
      "2\n",
      "3\n",
      "4\n"
     ]
    }
   ],
   "source": [
    "count=0\n",
    "while count<5:\n",
    "    print(count)\n",
    "    count+=1\n",
    "else:\n",
    "    print(\"count value reached %d\" % count)\n",
    "\n",
    "for i in range(1, 10):\n",
    "    if i%5==0:\n",
    "        break\n",
    "    print(i)\n",
    "else:\n",
    "    print(\"this is not printed because for loop is terminated because of break but not due to fail in condition\")"
   ]
  },
  {
   "cell_type": "markdown",
   "metadata": {},
   "source": [
    "Lecture 2"
   ]
  },
  {
   "cell_type": "code",
   "execution_count": 14,
   "metadata": {},
   "outputs": [
    {
     "name": "stdout",
     "output_type": "stream",
     "text": [
      "140724555875240\n",
      "2713893089136\n",
      "140724555939808\n",
      "2713918159920\n"
     ]
    }
   ],
   "source": [
    "a=1; print(id(a))\n",
    "a=1.5; print(id(a))\n",
    "a=\"a\"; print(id(a))\n",
    "a=\"Hello World!\"; print(id(a))"
   ]
  },
  {
   "cell_type": "code",
   "execution_count": 15,
   "metadata": {},
   "outputs": [
    {
     "name": "stdout",
     "output_type": "stream",
     "text": [
      "20 10\n"
     ]
    }
   ],
   "source": [
    "a=10\n",
    "b=20\n",
    "a, b = b, a\n",
    "print(a, b)"
   ]
  },
  {
   "cell_type": "code",
   "execution_count": 16,
   "metadata": {},
   "outputs": [
    {
     "name": "stdout",
     "output_type": "stream",
     "text": [
      "[1, 2, 3, 4]\n"
     ]
    }
   ],
   "source": [
    "list1=[1, 2, 3]\n",
    "list2=list1\n",
    "list2.append(4)\n",
    "print(list1)"
   ]
  },
  {
   "cell_type": "code",
   "execution_count": 17,
   "metadata": {},
   "outputs": [
    {
     "name": "stdout",
     "output_type": "stream",
     "text": [
      "2713918381312 2713918381312\n"
     ]
    }
   ],
   "source": [
    "# Shallow copy\n",
    "a=[1, 2, 3]\n",
    "b=a\n",
    "print(id(a), id(b))"
   ]
  },
  {
   "cell_type": "code",
   "execution_count": 18,
   "metadata": {},
   "outputs": [],
   "source": [
    "import copy"
   ]
  },
  {
   "cell_type": "code",
   "execution_count": 19,
   "metadata": {},
   "outputs": [
    {
     "name": "stdout",
     "output_type": "stream",
     "text": [
      "2713917825728 2713918234432\n",
      "[1, 2, 3, 4] [1, 2, 3]\n"
     ]
    }
   ],
   "source": [
    "# Shallow copy\n",
    "a=[1, 2, 3]\n",
    "b=copy.copy(a)\n",
    "a.append(4)\n",
    "print(id(a), id(b))\n",
    "print(a, b)"
   ]
  },
  {
   "cell_type": "code",
   "execution_count": 20,
   "metadata": {},
   "outputs": [
    {
     "name": "stdout",
     "output_type": "stream",
     "text": [
      "[1, 2, 3, 4] [1, 2, 3]\n"
     ]
    }
   ],
   "source": [
    "# Deep copy\n",
    "a=[1, 2, 3]\n",
    "b=copy.deepcopy(a)\n",
    "a.append(4)\n",
    "print(a, b)"
   ]
  },
  {
   "cell_type": "markdown",
   "metadata": {},
   "source": [
    "Lecture 3"
   ]
  },
  {
   "cell_type": "code",
   "execution_count": 21,
   "metadata": {},
   "outputs": [
    {
     "name": "stdout",
     "output_type": "stream",
     "text": [
      "합: 1020\n"
     ]
    }
   ],
   "source": [
    "x=input(\"첫 번째 정수: \")\n",
    "y=input(\"두 번째 정수: \")\n",
    "sum=x+y\n",
    "print(\"합:\", sum)"
   ]
  },
  {
   "cell_type": "code",
   "execution_count": 22,
   "metadata": {},
   "outputs": [
    {
     "name": "stdout",
     "output_type": "stream",
     "text": [
      "0.5\n"
     ]
    }
   ],
   "source": [
    "print(4/8)"
   ]
  },
  {
   "cell_type": "code",
   "execution_count": 23,
   "metadata": {},
   "outputs": [
    {
     "name": "stdout",
     "output_type": "stream",
     "text": [
      "100 / 200 = 0\n",
      "100 / 200 = 0.500000\n",
      "100 / 200 =   0.5\n",
      "123\n",
      "  123\n",
      "00123\n",
      "123.450000\n",
      "  123.5\n",
      "123.450\n",
      "Python\n",
      "    Python\n",
      "123   123 00123\n"
     ]
    }
   ],
   "source": [
    "print(\"%d / %d = %d\" % (100, 200, 0.5))\n",
    "print(\"%d / %d = %f\" % (100, 200, 0.5))\n",
    "print(\"%d / %d = %5.1f\" % (100, 200, 0.5))\n",
    "\n",
    "print(\"%d\" % 123)\n",
    "print(\"%5d\" % 123)\n",
    "print(\"%05d\" % 123)\n",
    "\n",
    "print(\"%f\" % 123.45)\n",
    "print(\"%7.1f\" % 123.45)\n",
    "print(\"%7.3f\" % 123.45)\n",
    "\n",
    "print(\"%s\" % \"Python\")\n",
    "print(\"%10s\" % \"Python\")\n",
    "\n",
    "print(\"{0:d} {1:5d} {2:05d}\".format(123, 123, 123))"
   ]
  },
  {
   "cell_type": "code",
   "execution_count": 24,
   "metadata": {},
   "outputs": [
    {
     "name": "stdout",
     "output_type": "stream",
     "text": [
      "글자가 '강조'되는 효과1\n",
      "글자가 \"강조\"되는 효과2\n",
      "\\n \\t \\\\ \\' \\\" 를 그대로 출력\n"
     ]
    }
   ],
   "source": [
    "print(\"글자가 \\'강조\\'되는 효과1\")\n",
    "print(\"글자가 \\\"강조\\\"되는 효과2\")\n",
    "\n",
    "print(r\"\\n \\t \\\\ \\' \\\" 를 그대로 출력\")"
   ]
  },
  {
   "cell_type": "code",
   "execution_count": 25,
   "metadata": {},
   "outputs": [
    {
     "name": "stdout",
     "output_type": "stream",
     "text": [
      "32\n",
      "56\n",
      "64\n",
      "72\n",
      "12\n",
      "37\n",
      "98\n",
      "77\n",
      "59\n",
      "69\n"
     ]
    }
   ],
   "source": [
    "scores=[32, 56, 64, 72, 12, 37, 98, 77, 59, 69]\n",
    "for element in scores:\n",
    "    print(element)"
   ]
  },
  {
   "cell_type": "code",
   "execution_count": 26,
   "metadata": {},
   "outputs": [
    {
     "name": "stdout",
     "output_type": "stream",
     "text": [
      "32 56 64 72 12 37 98 77 59 69 "
     ]
    }
   ],
   "source": [
    "scores=[32, 56, 64, 72, 12, 37, 98, 77, 59, 69]\n",
    "for element in scores:\n",
    "    print(element, end=\" \")"
   ]
  },
  {
   "cell_type": "code",
   "execution_count": 27,
   "metadata": {},
   "outputs": [
    {
     "name": "stdout",
     "output_type": "stream",
     "text": [
      "[1, 2, 3, 'A', 4, 5, 6, 7]\n",
      "[1, 2, 3, 'A', 4, 5, 7]\n",
      "7\n"
     ]
    }
   ],
   "source": [
    "a=[1, 2, 3, 4, 5, 6, 7]\n",
    "a.insert(3, \"A\")\n",
    "print(a)\n",
    "del(a[6])\n",
    "print(a)\n",
    "print(len(a))"
   ]
  },
  {
   "cell_type": "code",
   "execution_count": 28,
   "metadata": {},
   "outputs": [
    {
     "name": "stdout",
     "output_type": "stream",
     "text": [
      "학생 이름:\n",
      "김정우, 김진우, 김민재, "
     ]
    }
   ],
   "source": [
    "Names=[]\n",
    "while True:\n",
    "    name=input(\"학생 이름을 입력하세요: \")\n",
    "    if name==\"\":\n",
    "        break\n",
    "    Names.append(name)\n",
    "\n",
    "print(\"학생 이름:\")\n",
    "for name in Names:\n",
    "    print(name, end=\", \")"
   ]
  },
  {
   "cell_type": "markdown",
   "metadata": {},
   "source": [
    "Lecture 4"
   ]
  },
  {
   "cell_type": "code",
   "execution_count": 29,
   "metadata": {},
   "outputs": [
    {
     "name": "stdout",
     "output_type": "stream",
     "text": [
      "100\n"
     ]
    }
   ],
   "source": [
    "def main():\n",
    "    print(power(10, 2))\n",
    "\n",
    "def power(x, y):\n",
    "    result=1\n",
    "    for i in range(y):\n",
    "        result=result*x # result*=x\n",
    "    return result\n",
    "main()"
   ]
  },
  {
   "cell_type": "code",
   "execution_count": 30,
   "metadata": {},
   "outputs": [
    {
     "name": "stdout",
     "output_type": "stream",
     "text": [
      "[2, 3]\n",
      "[0, 1]\n"
     ]
    }
   ],
   "source": [
    "def spam(eggs):\n",
    "    eggs.append(1)\n",
    "    eggs=[2, 3]\n",
    "    print(eggs)\n",
    "\n",
    "ham=[0]\n",
    "spam(ham)\n",
    "print(ham)"
   ]
  },
  {
   "cell_type": "code",
   "execution_count": 31,
   "metadata": {},
   "outputs": [
    {
     "name": "stdout",
     "output_type": "stream",
     "text": [
      "30\n",
      "10 20\n",
      "20 10\n",
      "10 20\n",
      "[80, 90]\n",
      "[90, 80]\n",
      "[90, 80]\n"
     ]
    }
   ],
   "source": [
    "def sum(a, b):\n",
    "    return a+b\n",
    "\n",
    "def swap01(a, b):\n",
    "    a, b = b, a\n",
    "    print(a, b)\n",
    "\n",
    "def swap02(list1):\n",
    "    list1[0], list1[1] = list1[1], list1[0]\n",
    "    print(list1)\n",
    "\n",
    "a=10; b=20\n",
    "\n",
    "result=sum(a, b)\n",
    "print(result)\n",
    "\n",
    "print(a, b)\n",
    "swap01(a, b)\n",
    "print(a, b)\n",
    "\n",
    "list1=[80, 90]\n",
    "print(list1)\n",
    "swap02(list1)\n",
    "print(list1)"
   ]
  },
  {
   "cell_type": "code",
   "execution_count": 32,
   "metadata": {},
   "outputs": [
    {
     "name": "stdout",
     "output_type": "stream",
     "text": [
      "30\n",
      "10 20\n",
      "20 10\n",
      "20 10\n",
      "[80, 90]\n",
      "[90, 80]\n",
      "[90, 80]\n"
     ]
    }
   ],
   "source": [
    "def sum(a, b):\n",
    "    return a+b\n",
    "\n",
    "def swap01(a, b):\n",
    "    a, b = b, a\n",
    "    print(a, b)\n",
    "    return a, b\n",
    "\n",
    "def swap02(list1):\n",
    "    list1[0], list1[1] = list1[1], list1[0]\n",
    "    print(list1)\n",
    "\n",
    "a=10; b=20\n",
    "\n",
    "result=sum(a, b)\n",
    "print(result)\n",
    "\n",
    "print(a, b)\n",
    "a, b = swap01(a, b)\n",
    "print(a, b)\n",
    "\n",
    "list1=[80, 90]\n",
    "print(list1)\n",
    "swap02(list1)\n",
    "print(list1)"
   ]
  },
  {
   "cell_type": "code",
   "execution_count": 33,
   "metadata": {},
   "outputs": [
    {
     "name": "stdout",
     "output_type": "stream",
     "text": [
      "8\n"
     ]
    }
   ],
   "source": [
    "sum_func=lambda a, b: a+b\n",
    "result=sum_func(3, 5)\n",
    "print(result)"
   ]
  },
  {
   "cell_type": "code",
   "execution_count": 34,
   "metadata": {},
   "outputs": [
    {
     "name": "stdout",
     "output_type": "stream",
     "text": [
      "['Alice', 'Bob', 'John', 'Peter']\n",
      "['Bob', 'John', 'Peter', 'Alice']\n",
      "['Bob', 'John', 'Peter', 'Alice']\n",
      "['Bob', 'John', 'Alice', 'Peter']\n"
     ]
    }
   ],
   "source": [
    "Names=[\"John\", \"Peter\", \"Bob\", \"Alice\"]\n",
    "sorted_Names=sorted(Names)\n",
    "print(sorted_Names)\n",
    "\n",
    "Names=[\"John\", \"Peter\", \"Bob\", \"Alice\"]\n",
    "sorted_Names=sorted(Names, key=len)\n",
    "print(sorted_Names)\n",
    "\n",
    "Names=[\"John\", \"Peter\", \"Bob\", \"Alice\"]\n",
    "sorted_Names=sorted(Names, key=lambda x: len(x))\n",
    "print(sorted_Names)\n",
    "\n",
    "Names=[\"John\", \"Peter\", \"Bob\", \"Alice\"]\n",
    "sorted_Names=sorted(Names, key=lambda x: (len(x), x))\n",
    "print(sorted_Names)"
   ]
  },
  {
   "cell_type": "code",
   "execution_count": 35,
   "metadata": {},
   "outputs": [
    {
     "name": "stdout",
     "output_type": "stream",
     "text": [
      "if 은 예약어임.\n",
      "아래는 키워드의 전체 리스트임: \n",
      "['False', 'None', 'True', 'and', 'as', 'assert', 'async', 'await', 'break', 'class', 'continue', 'def', 'del', 'elif', 'else', 'except', 'finally', 'for', 'from', 'global', 'if', 'import', 'in', 'is', 'lambda', 'nonlocal', 'not', 'or', 'pass', 'raise', 'return', 'try', 'while', 'with', 'yield']\n"
     ]
    }
   ],
   "source": [
    "import keyword\n",
    "\n",
    "name=input(\"변수 이름을 입력하시오: \")\n",
    "if keyword.iskeyword(name):\n",
    "    print(name, \"은 예약어임.\")\n",
    "    print(\"아래는 키워드의 전체 리스트임: \")\n",
    "    print(keyword.kwlist)\n",
    "else:\n",
    "    print(name, \"은 사용할 수 있는 변수 이름임.\")"
   ]
  },
  {
   "cell_type": "code",
   "execution_count": 87,
   "metadata": {},
   "outputs": [
    {
     "name": "stdout",
     "output_type": "stream",
     "text": [
      "무작위 정수: 5\n",
      "무작위 실수: 0.21696491584999744\n",
      "무작위로 섞인 리스트: [2, 3, 1, 4, 5]\n",
      "무작위로 선택된 요소: 2\n"
     ]
    }
   ],
   "source": [
    "import random\n",
    "\n",
    "random_int=random.randint(1, 10)\n",
    "print(\"무작위 정수:\", random_int)\n",
    "\n",
    "random_float=random.random()\n",
    "print(\"무작위 실수:\", random_float)\n",
    "\n",
    "my_list=[1, 2, 3, 4, 5]\n",
    "random.shuffle(my_list)\n",
    "print(\"무작위로 섞인 리스트:\", my_list)\n",
    "\n",
    "my_list=[1, 2, 3, 4, 5]\n",
    "random_element=random.choice(my_list)\n",
    "print(\"무작위로 선택된 요소:\", random_element)"
   ]
  },
  {
   "cell_type": "code",
   "execution_count": 37,
   "metadata": {},
   "outputs": [
    {
     "name": "stdout",
     "output_type": "stream",
     "text": [
      "동전 결과:  뒷면\n",
      "동전 결과:  앞면\n",
      "동전 결과:  뒷면\n"
     ]
    }
   ],
   "source": [
    "import random\n",
    "\n",
    "def coin_toss():\n",
    "    coin=random.choice([\"앞면\", \"뒷면\"])\n",
    "    return coin\n",
    "\n",
    "def play_game():\n",
    "    while True:\n",
    "        response=input(\"동전 던지기를 계속하시겠습니까? (yes, no): \")\n",
    "        if response==\"yes\":\n",
    "            result=coin_toss()\n",
    "            print(\"동전 결과: \", result)\n",
    "        else:\n",
    "            break\n",
    "\n",
    "play_game()"
   ]
  },
  {
   "cell_type": "markdown",
   "metadata": {},
   "source": [
    "Lecture 5"
   ]
  },
  {
   "cell_type": "code",
   "execution_count": 38,
   "metadata": {},
   "outputs": [
    {
     "name": "stdout",
     "output_type": "stream",
     "text": [
      "10001\n",
      "10000\n",
      "10001\n",
      "10000\n",
      "Total: 9997\n"
     ]
    }
   ],
   "source": [
    "total=10000\n",
    "\n",
    "def add(value):\n",
    "    print(total+1)\n",
    "    print(total)\n",
    "\n",
    "def substract(value):\n",
    "    global total\n",
    "    total-=value\n",
    "\n",
    "def print_total():\n",
    "    print(f\"Total: {total}\")\n",
    "\n",
    "add(10)\n",
    "add(5)\n",
    "substract(3)\n",
    "print_total()"
   ]
  },
  {
   "cell_type": "code",
   "execution_count": 39,
   "metadata": {},
   "outputs": [
    {
     "name": "stdout",
     "output_type": "stream",
     "text": [
      "True\n",
      "False\n"
     ]
    }
   ],
   "source": [
    "person={\"이름\": \"홍길동\", \"나이\": 30, \"직업\": \"의적\"}\n",
    "print(\"나이\" in person)\n",
    "print(30 in person)"
   ]
  },
  {
   "cell_type": "code",
   "execution_count": 40,
   "metadata": {},
   "outputs": [
    {
     "name": "stdout",
     "output_type": "stream",
     "text": [
      "True\n"
     ]
    }
   ],
   "source": [
    "a=10\n",
    "b=10\n",
    "print(a is b)"
   ]
  },
  {
   "cell_type": "code",
   "execution_count": 41,
   "metadata": {},
   "outputs": [
    {
     "name": "stdout",
     "output_type": "stream",
     "text": [
      "False\n"
     ]
    }
   ],
   "source": [
    "x=[1, 2, 3]\n",
    "y=[1, 2, 3]\n",
    "print(x is y)"
   ]
  },
  {
   "cell_type": "code",
   "execution_count": 42,
   "metadata": {},
   "outputs": [
    {
     "name": "stdout",
     "output_type": "stream",
     "text": [
      "2713918137344\n",
      "2713918241536\n",
      "2713918137344\n",
      "140724555875240 140724555875240\n",
      "False\n",
      "True\n",
      "True\n"
     ]
    }
   ],
   "source": [
    "x=[1, 2, 3]\n",
    "y=[1, 2, 3]\n",
    "z=x\n",
    "\n",
    "print(id(x))\n",
    "print(id(y))\n",
    "print(id(z))\n",
    "print(id(x[0]), id(y[0]))\n",
    "\n",
    "print(x is y)\n",
    "print(x==y)\n",
    "print(x is z)"
   ]
  },
  {
   "cell_type": "code",
   "execution_count": 43,
   "metadata": {},
   "outputs": [
    {
     "name": "stdout",
     "output_type": "stream",
     "text": [
      "500원 짜리 동전 3개\n",
      "100원 짜리 동전 2개\n",
      "50원 짜리 동전 0개\n",
      "10원 짜리 동전 0개\n"
     ]
    }
   ],
   "source": [
    "def coin_change(amount):\n",
    "    coins=[500, 100, 50, 10]\n",
    "    change=[]\n",
    "    for coin in coins:\n",
    "        count=amount//coin\n",
    "        amount%=coin\n",
    "        change.append((coin, count))\n",
    "    return change\n",
    "amount=int(input(\"교환할 금액을 입력하세요: \"))\n",
    "result=coin_change(amount)\n",
    "for coin, count in result:\n",
    "    print(f\"{coin}원 짜리 동전 {count}개\")"
   ]
  },
  {
   "cell_type": "code",
   "execution_count": 44,
   "metadata": {},
   "outputs": [
    {
     "name": "stdout",
     "output_type": "stream",
     "text": [
      "False\n",
      "True\n"
     ]
    }
   ],
   "source": [
    "print(1==0<1)\n",
    "print(1>0==0)"
   ]
  },
  {
   "cell_type": "markdown",
   "metadata": {},
   "source": [
    "Lecture 6"
   ]
  },
  {
   "cell_type": "code",
   "execution_count": 45,
   "metadata": {},
   "outputs": [
    {
     "name": "stdout",
     "output_type": "stream",
     "text": [
      "수식 계산 결과:  16\n"
     ]
    }
   ],
   "source": [
    "def calculate_expression(expression):\n",
    "    try:\n",
    "        result=eval(expression)\n",
    "        print(\"수식 계산 결과: \", result)\n",
    "    except:\n",
    "        print(\"잘못된 수식입니다.\")\n",
    "\n",
    "expression=input(\"계산할 수식을 입력하세요: \")\n",
    "calculate_expression(expression)"
   ]
  },
  {
   "cell_type": "code",
   "execution_count": 46,
   "metadata": {},
   "outputs": [
    {
     "name": "stdout",
     "output_type": "stream",
     "text": [
      "name: John\n",
      "age: 30\n",
      "city: New York\n"
     ]
    }
   ],
   "source": [
    "person={\"name\": \"John\", \"age\": 30, \"city\": \"New York\"}\n",
    "\n",
    "for key, value in person.items():\n",
    "    print(f\"{key}: {value}\")"
   ]
  },
  {
   "cell_type": "code",
   "execution_count": 47,
   "metadata": {},
   "outputs": [
    {
     "name": "stdout",
     "output_type": "stream",
     "text": [
      "0: apple\n",
      "1: banana\n",
      "2: cherry\n"
     ]
    }
   ],
   "source": [
    "fruits=[\"apple\", \"banana\", \"cherry\"]\n",
    "for index, fruit in enumerate(fruits):\n",
    "    print(f\"{index}: {fruit}\")"
   ]
  },
  {
   "cell_type": "code",
   "execution_count": 48,
   "metadata": {},
   "outputs": [
    {
     "name": "stdout",
     "output_type": "stream",
     "text": [
      "[0, 1, 4, 9, 16]\n"
     ]
    }
   ],
   "source": [
    "squares=[x**2 for x in range(5)]\n",
    "print(squares)"
   ]
  },
  {
   "cell_type": "code",
   "execution_count": 49,
   "metadata": {},
   "outputs": [],
   "source": [
    "try:\n",
    "    pass\n",
    "except:\n",
    "    pass\n",
    "else:\n",
    "    pass\n",
    "finally:\n",
    "    pass"
   ]
  },
  {
   "cell_type": "code",
   "execution_count": 50,
   "metadata": {},
   "outputs": [
    {
     "name": "stdout",
     "output_type": "stream",
     "text": [
      "0으로 나눌 수 없습니다.\n"
     ]
    }
   ],
   "source": [
    "try:\n",
    "    a=int(input())\n",
    "    b=int(input())\n",
    "    result=a/b\n",
    "except ZeroDivisionError:\n",
    "    print(\"0으로 나눌 수 없습니다.\")\n",
    "except Exception as e:\n",
    "    print(f\"알 수 없는 오류 발생: {e}\")\n",
    "else:\n",
    "    pass\n",
    "finally:\n",
    "    pass"
   ]
  },
  {
   "cell_type": "code",
   "execution_count": 51,
   "metadata": {},
   "outputs": [
    {
     "name": "stdout",
     "output_type": "stream",
     "text": [
      "파일이 없습니다.\n",
      "프로그램 종료\n"
     ]
    }
   ],
   "source": [
    "try:\n",
    "    f=open(\"text.txt\", 'r')\n",
    "    content=f.read()\n",
    "    print(content)\n",
    "except FileNotFoundError:\n",
    "    print(\"파일이 없습니다.\")\n",
    "finally:\n",
    "    print(\"프로그램 종료\")"
   ]
  },
  {
   "cell_type": "code",
   "execution_count": 52,
   "metadata": {},
   "outputs": [
    {
     "name": "stdout",
     "output_type": "stream",
     "text": [
      "예외 발생: division by zero\n"
     ]
    }
   ],
   "source": [
    "try:\n",
    "    result=10/0\n",
    "except ZeroDivisionError as e:\n",
    "    print(f\"예외 발생: {e}\")"
   ]
  },
  {
   "cell_type": "code",
   "execution_count": 53,
   "metadata": {},
   "outputs": [],
   "source": [
    "try:\n",
    "    x=int(input(\"나눠질 수를 입력하세요: \"))\n",
    "    y=int(input(\"나눌 수를 입력하세요: \"))\n",
    "    result=x/y\n",
    "except (ZeroDivisionError, ValueError) as e:\n",
    "    print(f\"예외 발생: {e}\")"
   ]
  },
  {
   "cell_type": "markdown",
   "metadata": {},
   "source": [
    "Lecture 7"
   ]
  },
  {
   "cell_type": "code",
   "execution_count": 54,
   "metadata": {},
   "outputs": [
    {
     "name": "stdout",
     "output_type": "stream",
     "text": [
      "[10, 50]\n"
     ]
    }
   ],
   "source": [
    "aa=[10, 20, 30, 40, 50]\n",
    "aa[1:4]=[]\n",
    "print(aa)"
   ]
  },
  {
   "cell_type": "code",
   "execution_count": 55,
   "metadata": {},
   "outputs": [
    {
     "name": "stdout",
     "output_type": "stream",
     "text": [
      "[1, 2, 1010, 3, 4, 5]\n"
     ]
    }
   ],
   "source": [
    "bb=[1, 2, 3, 4, 5]\n",
    "bb.insert(2, 1010)\n",
    "print(bb)"
   ]
  },
  {
   "cell_type": "code",
   "execution_count": 56,
   "metadata": {},
   "outputs": [
    {
     "name": "stdout",
     "output_type": "stream",
     "text": [
      "[]\n"
     ]
    }
   ],
   "source": [
    "a=[1, 2, 3, 4, 5, 6]\n",
    "a.clear()\n",
    "print(a)"
   ]
  },
  {
   "cell_type": "code",
   "execution_count": 57,
   "metadata": {},
   "outputs": [
    {
     "name": "stdout",
     "output_type": "stream",
     "text": [
      "[1, 2, 3, 5]\n"
     ]
    }
   ],
   "source": [
    "cc=[1, 2, 3, 4, 5]\n",
    "del(cc[3])\n",
    "print(cc)"
   ]
  },
  {
   "cell_type": "code",
   "execution_count": 58,
   "metadata": {},
   "outputs": [
    {
     "name": "stdout",
     "output_type": "stream",
     "text": [
      "  1   2   3   4 \n",
      "  5   6   7   8 \n",
      "  9  10  11  12 \n"
     ]
    }
   ],
   "source": [
    "list1=[]\n",
    "list2=[]\n",
    "value=1\n",
    "for i in range(0, 3):\n",
    "    for j in range(0, 4):\n",
    "        list1.append(value)\n",
    "        value+=1\n",
    "    list2.append(list1)\n",
    "    list1=[]\n",
    "\n",
    "for i in range(0, 3):\n",
    "    for j in range(0, 4):\n",
    "        print(f\"{list2[i][j]:3d}\", end=\" \")\n",
    "    print(\"\") # print(\"\\n\")"
   ]
  },
  {
   "cell_type": "code",
   "execution_count": 59,
   "metadata": {},
   "outputs": [
    {
     "name": "stdout",
     "output_type": "stream",
     "text": [
      "[[0, 0, 0, 0], [0, 0, 0, 0], [0, 0, 0, 0]]\n"
     ]
    }
   ],
   "source": [
    "rows=3\n",
    "cols=4\n",
    "matrix=[]\n",
    "for _ in range(rows):\n",
    "    row=[]\n",
    "    for _ in range(cols):\n",
    "        row.append(0)\n",
    "    matrix.append(row)\n",
    "\n",
    "print(matrix)"
   ]
  },
  {
   "cell_type": "code",
   "execution_count": 60,
   "metadata": {},
   "outputs": [
    {
     "name": "stdout",
     "output_type": "stream",
     "text": [
      "1000\n",
      "None\n",
      "dict_keys(['학번', '이름', '학과'])\n",
      "['학번', '이름', '학과']\n",
      "dict_values([1000, '홍길동', '열공학과'])\n",
      "dict_items([('학번', 1000), ('이름', '홍길동'), ('학과', '열공학과')])\n"
     ]
    }
   ],
   "source": [
    "student1={\"학번\": 1000, \"이름\": \"홍길동\", \"학과\": \"열공학과\"}\n",
    "print(student1.get(\"학번\"))\n",
    "print(student1.get(\"나이\"))\n",
    "print(student1.keys())\n",
    "print(list(student1.keys()))\n",
    "print(student1.values())\n",
    "print(student1.items())"
   ]
  },
  {
   "cell_type": "code",
   "execution_count": 61,
   "metadata": {},
   "outputs": [
    {
     "name": "stdout",
     "output_type": "stream",
     "text": [
      "PYTHON IS EASY.\n",
      "python is easy.\n",
      "pYTHON IS EASY.\n",
      "Python Is Easy.\n",
      "Python is easy.\n"
     ]
    }
   ],
   "source": [
    "ss=\"Python is easy.\"\n",
    "print(ss.upper())\n",
    "print(ss.lower())\n",
    "print(ss.swapcase())\n",
    "print(ss.title())\n",
    "print(ss.capitalize())"
   ]
  },
  {
   "cell_type": "code",
   "execution_count": 62,
   "metadata": {},
   "outputs": [
    {
     "name": "stdout",
     "output_type": "stream",
     "text": [
      "AB"
     ]
    }
   ],
   "source": [
    "print(\"A\", end=\"\")\n",
    "print(\"B\", end=\"\")"
   ]
  },
  {
   "cell_type": "code",
   "execution_count": 63,
   "metadata": {},
   "outputs": [
    {
     "name": "stdout",
     "output_type": "stream",
     "text": [
      "\n",
      "65\n"
     ]
    }
   ],
   "source": [
    "print()\n",
    "print(ord(\"A\"))"
   ]
  },
  {
   "cell_type": "code",
   "execution_count": 64,
   "metadata": {},
   "outputs": [
    {
     "name": "stdout",
     "output_type": "stream",
     "text": [
      "함수 내에서 리스트: [1, 2, 3, 4]\n",
      "함수 내에서 문자열: Hello World\n",
      "함수 호출 후 리스트: [1, 2, 3, 4]\n",
      "함수 호출 후 문자열: Hello\n"
     ]
    }
   ],
   "source": [
    "def modify_list(lst):\n",
    "    lst.append(4)\n",
    "    print(\"함수 내에서 리스트:\", lst)\n",
    "\n",
    "def modify_string(s):\n",
    "    s+=\" World\"\n",
    "    print(\"함수 내에서 문자열:\", s)\n",
    "\n",
    "my_list=[1, 2, 3]\n",
    "my_sting=\"Hello\"\n",
    "\n",
    "modify_list(my_list)\n",
    "modify_string(my_sting)\n",
    "\n",
    "print(\"함수 호출 후 리스트:\", my_list)\n",
    "print(\"함수 호출 후 문자열:\", my_sting)"
   ]
  },
  {
   "cell_type": "markdown",
   "metadata": {},
   "source": [
    "Lecture 8"
   ]
  },
  {
   "cell_type": "code",
   "execution_count": 65,
   "metadata": {},
   "outputs": [
    {
     "name": "stdout",
     "output_type": "stream",
     "text": [
      "[100, [65, 95, 88, 78, 95], [75, 88, 90, 97, 90]]\n"
     ]
    }
   ],
   "source": [
    "kor=[80, 75, 97, 77, 85]\n",
    "math=[65, 95, 88, 78, 95]\n",
    "eng=[75, 88, 90, 97, 90]\n",
    "\n",
    "mid=[kor, math, eng]\n",
    "mid[0]=100\n",
    "# mid[0][0]=100\n",
    "\n",
    "print(mid)"
   ]
  },
  {
   "cell_type": "code",
   "execution_count": 66,
   "metadata": {},
   "outputs": [
    {
     "name": "stdout",
     "output_type": "stream",
     "text": [
      "[0, 1, 2, 3, 4, 5, 6, 7, 8, 9]\n",
      "[0, 2, 4, 6, 8]\n",
      "[0, 99, 2, 99, 4, 99, 6, 99, 8, 99]\n",
      "['HW', 'Ho', 'Hr', 'Hl', 'Hd', 'eW', 'eo', 'er', 'el', 'ed', 'lW', 'lo', 'lr', 'll', 'ld', 'lW', 'lo', 'lr', 'll', 'ld', 'oW', 'oo', 'or', 'ol', 'od']\n",
      "['AD', 'AE', 'BD', 'BE', 'BA', 'CD', 'CE', 'CA']\n"
     ]
    }
   ],
   "source": [
    "y=[i for i in range(10)]\n",
    "print(y)\n",
    "y=[i for i in range(10) if i%2==0]\n",
    "print(y)\n",
    "y=[i if i%2==0 else 99 for i in range(10)]\n",
    "print(y)\n",
    "\n",
    "w1=\"Hello\"\n",
    "w2=\"World\"\n",
    "y=[i+j for i in w1 for j in w2]\n",
    "print(y)\n",
    "\n",
    "w1=[\"A\", \"B\", \"C\"]\n",
    "w2=[\"D\", \"E\", \"A\"]\n",
    "y=[i+j for i in w1 for j in w2 if not (i==j)]\n",
    "print(y)"
   ]
  },
  {
   "cell_type": "code",
   "execution_count": 67,
   "metadata": {},
   "outputs": [
    {
     "name": "stdout",
     "output_type": "stream",
     "text": [
      "['Anyone', 'can', 'be', 'anything']\n"
     ]
    }
   ],
   "source": [
    "ws=\"Anyone can be anything\".split()\n",
    "print(ws)"
   ]
  },
  {
   "cell_type": "code",
   "execution_count": 68,
   "metadata": {},
   "outputs": [
    {
     "name": "stdout",
     "output_type": "stream",
     "text": [
      "['AD', 'AE', 'AA', 'BD', 'BE', 'BA', 'CD', 'CE', 'CA']\n",
      "[['AD', 'BD', 'CD'], ['AE', 'BE', 'CE'], ['AA', 'BA', 'CA']]\n"
     ]
    }
   ],
   "source": [
    "w1=[\"A\", \"B\", \"C\"]\n",
    "w2=[\"D\", \"E\", \"A\"]\n",
    "y=[i+j for i in w1 for j in w2]\n",
    "print(y)\n",
    "\n",
    "w1=[\"A\", \"B\", \"C\"]\n",
    "w2=[\"D\", \"E\", \"A\"]\n",
    "y=[[i+j for i in w1] for j in w2]\n",
    "print(y)"
   ]
  },
  {
   "cell_type": "code",
   "execution_count": 69,
   "metadata": {},
   "outputs": [
    {
     "name": "stdout",
     "output_type": "stream",
     "text": [
      "40\n"
     ]
    }
   ],
   "source": [
    "def da_test(a, b, c=10, d=20):\n",
    "    sum=a+b+c+d\n",
    "    return sum\n",
    "\n",
    "print(da_test(5, 5))"
   ]
  },
  {
   "cell_type": "code",
   "execution_count": 70,
   "metadata": {},
   "outputs": [
    {
     "name": "stdout",
     "output_type": "stream",
     "text": [
      "1\n",
      "2\n",
      "3\n",
      "4\n"
     ]
    }
   ],
   "source": [
    "def print_args(*args):\n",
    "    for arg in args:\n",
    "        print(arg)\n",
    "\n",
    "print_args(1, 2, 3, 4)"
   ]
  },
  {
   "cell_type": "code",
   "execution_count": 71,
   "metadata": {},
   "outputs": [
    {
     "name": "stdout",
     "output_type": "stream",
     "text": [
      "a=1\n",
      "b=2\n",
      "c=3\n"
     ]
    }
   ],
   "source": [
    "def print_kwargs(**kwargs):\n",
    "    for key, value in kwargs.items():\n",
    "        print(f\"{key}={value}\")\n",
    "\n",
    "print_kwargs(a=1, b=2, c=3)"
   ]
  },
  {
   "cell_type": "code",
   "execution_count": 72,
   "metadata": {},
   "outputs": [
    {
     "name": "stdout",
     "output_type": "stream",
     "text": [
      "deque([1, 2, 3])\n",
      "deque([1, 2, 3, 4])\n",
      "deque([1, 2, 3, 4, 5])\n",
      "deque([1, 2, 3, 4])\n",
      "deque([2, 3, 4])\n"
     ]
    }
   ],
   "source": [
    "from collections import deque\n",
    "\n",
    "dq=deque([1, 2, 3])\n",
    "print(dq)\n",
    "dq.append(4)\n",
    "print(dq)\n",
    "dq.append(5)\n",
    "print(dq)\n",
    "dq.pop()\n",
    "print(dq)\n",
    "dq.popleft()\n",
    "print(dq)"
   ]
  },
  {
   "cell_type": "code",
   "execution_count": 73,
   "metadata": {},
   "outputs": [
    {
     "name": "stdout",
     "output_type": "stream",
     "text": [
      "b 100\n",
      "a 700\n",
      "d 300\n",
      "c 500\n",
      "e 200\n"
     ]
    }
   ],
   "source": [
    "from collections import OrderedDict\n",
    "\n",
    "od=OrderedDict()\n",
    "od[\"b\"]=100\n",
    "od[\"a\"]=700\n",
    "od[\"d\"]=300\n",
    "od[\"c\"]=500\n",
    "od[\"e\"]=200\n",
    "\n",
    "for key, value in od.items():\n",
    "    print(key, value)"
   ]
  },
  {
   "cell_type": "code",
   "execution_count": 74,
   "metadata": {},
   "outputs": [
    {
     "name": "stdout",
     "output_type": "stream",
     "text": [
      "a 700\n",
      "b 100\n",
      "c 500\n",
      "d 300\n",
      "e 200\n"
     ]
    }
   ],
   "source": [
    "from collections import OrderedDict\n",
    "\n",
    "def sort_by_key(t):\n",
    "    return t[0] # t[0] - key, t[1] - value\n",
    "\n",
    "d=dict()\n",
    "d[\"b\"]=100\n",
    "d[\"a\"]=700\n",
    "d[\"d\"]=300\n",
    "d[\"c\"]=500\n",
    "d[\"e\"]=200\n",
    "\n",
    "for key, value in OrderedDict(sorted(d.items(), key=sort_by_key)).items():\n",
    "    print(key, value)"
   ]
  },
  {
   "cell_type": "code",
   "execution_count": 75,
   "metadata": {},
   "outputs": [
    {
     "name": "stdout",
     "output_type": "stream",
     "text": [
      "Counter({'apple': 3, 'banana': 2, 'cherry': 2})\n"
     ]
    }
   ],
   "source": [
    "from collections import Counter\n",
    "\n",
    "fruits=[\"apple\", \"banana\", \"cherry\", \"apple\", \"cherry\", \"apple\", \"banana\"]\n",
    "fruit_count=Counter(fruits)\n",
    "print(fruit_count)"
   ]
  },
  {
   "cell_type": "markdown",
   "metadata": {},
   "source": [
    "Lecture 9"
   ]
  },
  {
   "cell_type": "code",
   "execution_count": 76,
   "metadata": {},
   "outputs": [],
   "source": [
    "f=open(\"text1.txt\", 'w')\n",
    "f.writelines(\"qweasdzxc\")\n",
    "f.close()"
   ]
  },
  {
   "cell_type": "code",
   "execution_count": 77,
   "metadata": {},
   "outputs": [
    {
     "name": "stdout",
     "output_type": "stream",
     "text": [
      "54028\n",
      "파\n"
     ]
    }
   ],
   "source": [
    "print(ord(\"파\"))\n",
    "print(chr(54028))"
   ]
  }
 ],
 "metadata": {
  "kernelspec": {
   "display_name": "Python 3",
   "language": "python",
   "name": "python3"
  },
  "language_info": {
   "codemirror_mode": {
    "name": "ipython",
    "version": 3
   },
   "file_extension": ".py",
   "mimetype": "text/x-python",
   "name": "python",
   "nbconvert_exporter": "python",
   "pygments_lexer": "ipython3",
   "version": "3.13.2"
  }
 },
 "nbformat": 4,
 "nbformat_minor": 2
}
