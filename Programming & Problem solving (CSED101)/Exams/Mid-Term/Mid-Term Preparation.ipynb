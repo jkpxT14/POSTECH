{
 "cells": [
  {
   "cell_type": "markdown",
   "metadata": {},
   "source": [
    "Midterm"
   ]
  },
  {
   "cell_type": "code",
   "execution_count": null,
   "metadata": {},
   "outputs": [],
   "source": [
    "a=10\n",
    "b=20\n",
    "a, b = b, a\n",
    "print(a, b)"
   ]
  },
  {
   "cell_type": "code",
   "execution_count": null,
   "metadata": {},
   "outputs": [],
   "source": [
    "list1=[1, 2, 3]\n",
    "list2=list1\n",
    "list2.append(4)\n",
    "print(list1)"
   ]
  },
  {
   "cell_type": "code",
   "execution_count": null,
   "metadata": {},
   "outputs": [
    {
     "name": "stdout",
     "output_type": "stream",
     "text": [
      "[1, 2, 3, 4] [1, 2, 3]\n"
     ]
    }
   ],
   "source": [
    "import copy\n",
    "\n",
    "a=[1, 2, 3]\n",
    "b=copy.deepcopy(a)\n",
    "a.append(4)\n",
    "print(a, b)"
   ]
  },
  {
   "cell_type": "markdown",
   "metadata": {},
   "source": [
    "Lecture 3"
   ]
  },
  {
   "cell_type": "code",
   "execution_count": 9,
   "metadata": {},
   "outputs": [
    {
     "name": "stdout",
     "output_type": "stream",
     "text": [
      "100 / 200 = 0\n",
      "100 / 200 = 0.500000\n",
      "100 / 200 =   0.5\n",
      "123\n",
      "  123\n",
      "00123\n",
      "123.450000\n",
      "  123.5\n",
      "123.450\n",
      "Python\n",
      "    Python\n",
      "123   123 00123\n"
     ]
    }
   ],
   "source": [
    "print(\"%d / %d = %d\" % (100, 200, 0.5))\n",
    "print(\"%d / %d = %f\" % (100, 200, 0.5))\n",
    "print(\"%d / %d = %5.1f\" % (100, 200, 0.5))\n",
    "\n",
    "print(\"%d\" % 123)\n",
    "print(\"%5d\" % 123)\n",
    "print(\"%05d\" % 123)\n",
    "\n",
    "print(\"%f\" % 123.45)\n",
    "print(\"%7.1f\" % 123.45)\n",
    "print(\"%7.3f\" % 123.45)\n",
    "\n",
    "print(\"%s\" % \"Python\")\n",
    "print(\"%10s\" % \"Python\")\n",
    "\n",
    "print(\"{0:d} {1:5d} {2:05d}\".format(123, 123, 123))"
   ]
  },
  {
   "cell_type": "code",
   "execution_count": 10,
   "metadata": {},
   "outputs": [
    {
     "name": "stdout",
     "output_type": "stream",
     "text": [
      "글자가 '강조'되는 효과1\n",
      "글자가 \"강조\"되는 효과2\n",
      "\\n \\t \\\\ \\' \\\" 를 그대로 출력\n"
     ]
    }
   ],
   "source": [
    "print(\"글자가 \\'강조\\'되는 효과1\")\n",
    "print(\"글자가 \\\"강조\\\"되는 효과2\")\n",
    "\n",
    "print(r\"\\n \\t \\\\ \\' \\\" 를 그대로 출력\")"
   ]
  },
  {
   "cell_type": "code",
   "execution_count": 11,
   "metadata": {},
   "outputs": [
    {
     "name": "stdout",
     "output_type": "stream",
     "text": [
      "학생 이름:\n",
      "김정우, 김진우, 변재경, "
     ]
    }
   ],
   "source": [
    "Names=[]\n",
    "while True:\n",
    "    name=input(\"학생 이름을 입력하세요: \")\n",
    "    if name==\"\":\n",
    "        break\n",
    "    Names.append(name)\n",
    "\n",
    "print(\"학생 이름:\")\n",
    "for name in Names:\n",
    "    print(name, end=\", \")"
   ]
  },
  {
   "cell_type": "markdown",
   "metadata": {},
   "source": [
    "Lecture 4"
   ]
  },
  {
   "cell_type": "code",
   "execution_count": 1,
   "metadata": {},
   "outputs": [
    {
     "name": "stdout",
     "output_type": "stream",
     "text": [
      "[2, 3]\n",
      "[0, 1]\n"
     ]
    }
   ],
   "source": [
    "def spam(eggs):\n",
    "    eggs.append(1)\n",
    "    eggs=[2, 3]\n",
    "    print(eggs)\n",
    "\n",
    "ham=[0]\n",
    "spam(ham)\n",
    "print(ham)"
   ]
  },
  {
   "cell_type": "code",
   "execution_count": 2,
   "metadata": {},
   "outputs": [
    {
     "name": "stdout",
     "output_type": "stream",
     "text": [
      "30\n",
      "10 20\n",
      "20 10\n",
      "10 20\n",
      "[80, 90]\n",
      "[90, 80]\n",
      "[90, 80]\n"
     ]
    }
   ],
   "source": [
    "def sum(a, b):\n",
    "    return a+b\n",
    "\n",
    "def swap01(a, b):\n",
    "    a, b = b, a\n",
    "    print(a, b)\n",
    "\n",
    "def swap02(list1):\n",
    "    list1[0], list1[1] = list1[1], list1[0]\n",
    "    print(list1)\n",
    "\n",
    "a=10; b=20\n",
    "\n",
    "result=sum(a, b)\n",
    "print(result)\n",
    "\n",
    "print(a, b)\n",
    "swap01(a, b)\n",
    "print(a, b)\n",
    "\n",
    "list1=[80, 90]\n",
    "print(list1)\n",
    "swap02(list1)\n",
    "print(list1)"
   ]
  },
  {
   "cell_type": "code",
   "execution_count": 3,
   "metadata": {},
   "outputs": [
    {
     "name": "stdout",
     "output_type": "stream",
     "text": [
      "30\n",
      "10 20\n",
      "20 10\n",
      "20 10\n",
      "[80, 90]\n",
      "[90, 80]\n",
      "[90, 80]\n"
     ]
    }
   ],
   "source": [
    "def sum(a, b):\n",
    "    return a+b\n",
    "\n",
    "def swap01(a, b):\n",
    "    a, b = b, a\n",
    "    print(a, b)\n",
    "    return a, b\n",
    "\n",
    "def swap02(list1):\n",
    "    list1[0], list1[1] = list1[1], list1[0]\n",
    "    print(list1)\n",
    "\n",
    "a=10; b=20\n",
    "\n",
    "result=sum(a, b)\n",
    "print(result)\n",
    "\n",
    "print(a, b)\n",
    "a, b = swap01(a, b)\n",
    "print(a, b)\n",
    "\n",
    "list1=[80, 90]\n",
    "print(list1)\n",
    "swap02(list1)\n",
    "print(list1)"
   ]
  },
  {
   "cell_type": "code",
   "execution_count": 4,
   "metadata": {},
   "outputs": [
    {
     "name": "stdout",
     "output_type": "stream",
     "text": [
      "8\n"
     ]
    }
   ],
   "source": [
    "sum_func=lambda a, b: a+b\n",
    "result=sum_func(3, 5)\n",
    "print(result)"
   ]
  },
  {
   "cell_type": "code",
   "execution_count": 2,
   "metadata": {},
   "outputs": [
    {
     "name": "stdout",
     "output_type": "stream",
     "text": [
      "['Alice', 'Bob', 'John', 'Peter']\n",
      "['Bob', 'John', 'Alice', 'Peter']\n",
      "['Bob', 'John', 'Alice', 'Peter']\n",
      "['Bob', 'John', 'Alice', 'Peter']\n"
     ]
    }
   ],
   "source": [
    "Names=[\"John\", \"Alice\", \"Peter\", \"Bob\"]\n",
    "sorted_Names=sorted(Names)\n",
    "print(sorted_Names)\n",
    "\n",
    "Names=[\"John\", \"Alice\", \"Peter\", \"Bob\"]\n",
    "sorted_Names=sorted(Names, key=len)\n",
    "print(sorted_Names)\n",
    "\n",
    "Names=[\"John\", \"Alice\", \"Peter\", \"Bob\"]\n",
    "sorted_Names=sorted(Names, key=lambda x: len(x))\n",
    "print(sorted_Names)\n",
    "\n",
    "Names=[\"John\", \"Alice\", \"Peter\", \"Bob\"]\n",
    "sorted_Names=sorted(Names, key=lambda x: (len(x), x))\n",
    "print(sorted_Names)"
   ]
  },
  {
   "cell_type": "code",
   "execution_count": 5,
   "metadata": {},
   "outputs": [
    {
     "name": "stdout",
     "output_type": "stream",
     "text": [
      "for 은 예약어임.\n",
      "아래는 키워드의 전체 리스트임: \n",
      "['False', 'None', 'True', 'and', 'as', 'assert', 'async', 'await', 'break', 'class', 'continue', 'def', 'del', 'elif', 'else', 'except', 'finally', 'for', 'from', 'global', 'if', 'import', 'in', 'is', 'lambda', 'nonlocal', 'not', 'or', 'pass', 'raise', 'return', 'try', 'while', 'with', 'yield']\n"
     ]
    }
   ],
   "source": [
    "import keyword\n",
    "\n",
    "name=input(\"변수 이름을 입력하시오: \")\n",
    "if keyword.iskeyword(name):\n",
    "    print(name, \"은 예약어임.\")\n",
    "    print(\"아래는 키워드의 전체 리스트임: \")\n",
    "    print(keyword.kwlist)\n",
    "else:\n",
    "    print(name, \"은 사용할 수 있는 변수 이름임.\")"
   ]
  },
  {
   "cell_type": "code",
   "execution_count": 6,
   "metadata": {},
   "outputs": [
    {
     "name": "stdout",
     "output_type": "stream",
     "text": [
      "무작위 정수: 10\n",
      "무작위 실수: 0.06521700551492127\n",
      "무작위로 섞인 리스트: [5, 4, 2, 1, 3]\n",
      "무작위로 선택된 요소: 4\n"
     ]
    }
   ],
   "source": [
    "import random\n",
    "\n",
    "random_int=random.randint(1, 10)\n",
    "print(\"무작위 정수:\", random_int)\n",
    "\n",
    "random_float=random.random()\n",
    "print(\"무작위 실수:\", random_float)\n",
    "\n",
    "my_list=[1, 2, 3, 4, 5]\n",
    "random.shuffle(my_list)\n",
    "print(\"무작위로 섞인 리스트:\", my_list)\n",
    "\n",
    "my_list=[1, 2, 3, 4, 5]\n",
    "random_element=random.choice(my_list)\n",
    "print(\"무작위로 선택된 요소:\", random_element)"
   ]
  },
  {
   "cell_type": "code",
   "execution_count": 8,
   "metadata": {},
   "outputs": [
    {
     "name": "stdout",
     "output_type": "stream",
     "text": [
      "동전 결과:  뒷면\n",
      "동전 결과:  뒷면\n",
      "동전 결과:  뒷면\n",
      "동전 결과:  앞면\n",
      "동전 결과:  앞면\n"
     ]
    }
   ],
   "source": [
    "import random\n",
    "\n",
    "def coin_toss():\n",
    "    coin=random.choice([\"앞면\", \"뒷면\"])\n",
    "    return coin\n",
    "\n",
    "def play_game():\n",
    "    while True:\n",
    "        response=input(\"동전 던지기를 계속하시겠습니까? (yes, no): \")\n",
    "        if response==\"yes\":\n",
    "            result=coin_toss()\n",
    "            print(\"동전 결과: \", result)\n",
    "        else:\n",
    "            break\n",
    "\n",
    "play_game()"
   ]
  },
  {
   "cell_type": "markdown",
   "metadata": {},
   "source": [
    "Lecture 5"
   ]
  },
  {
   "cell_type": "code",
   "execution_count": null,
   "metadata": {},
   "outputs": [],
   "source": []
  }
 ],
 "metadata": {
  "kernelspec": {
   "display_name": "Python 3",
   "language": "python",
   "name": "python3"
  },
  "language_info": {
   "codemirror_mode": {
    "name": "ipython",
    "version": 3
   },
   "file_extension": ".py",
   "mimetype": "text/x-python",
   "name": "python",
   "nbconvert_exporter": "python",
   "pygments_lexer": "ipython3",
   "version": "3.13.2"
  }
 },
 "nbformat": 4,
 "nbformat_minor": 2
}
