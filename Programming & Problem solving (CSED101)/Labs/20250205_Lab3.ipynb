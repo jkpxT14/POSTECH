{
 "cells": [
  {
   "cell_type": "markdown",
   "id": "85646b09",
   "metadata": {},
   "source": [
    "학번: 20250205\n",
    "이름: 김정우"
   ]
  },
  {
   "cell_type": "code",
   "execution_count": 143,
   "id": "7e900501-9355-4378-add4-0e1030014d18",
   "metadata": {},
   "outputs": [],
   "source": [
    "# 실습1 - (함수 완성하기)\n",
    "def calc_score(score_list):\n",
    "    return sum(score_list)/len(score_list), max(score_list)"
   ]
  },
  {
   "cell_type": "code",
   "execution_count": 144,
   "id": "f450ed57-7599-4954-8e0b-edc7e43b79e9",
   "metadata": {},
   "outputs": [],
   "source": [
    "def problem1(): # 수정할 수 없음\n",
    "    score_list1 = [85, 90, 78] \n",
    "    score_list2 = [99, 55, 77, 66, 88]\n",
    "    \n",
    "    avg1, max1 = calc_score(score_list1)\n",
    "    print(\"평균: %.1f점, 최고점: %d점\" % (avg1, max1)) # 평균: 84.3점, 최고점: 90점\n",
    "    \n",
    "    avg2, max2 = calc_score(score_list2)\n",
    "    print(\"평균: %.1f점, 최고점: %d점\" % (avg2, max2)) # 평균: 77.0점, 최고점: 99점"
   ]
  },
  {
   "cell_type": "code",
   "execution_count": 145,
   "id": "f3ab229b-97de-46ec-a7f0-cabdd083cddd",
   "metadata": {},
   "outputs": [
    {
     "name": "stdout",
     "output_type": "stream",
     "text": [
      "평균: 84.3점, 최고점: 90점\n",
      "평균: 77.0점, 최고점: 99점\n"
     ]
    }
   ],
   "source": [
    "problem1()"
   ]
  },
  {
   "cell_type": "code",
   "execution_count": 146,
   "id": "d126e52c",
   "metadata": {},
   "outputs": [],
   "source": [
    "# 실습2 - (함수 완성하기)\n",
    "def merge_list(L1, L2):\n",
    "    return sorted(L1+L2)"
   ]
  },
  {
   "cell_type": "code",
   "execution_count": 147,
   "id": "2155eb6b",
   "metadata": {},
   "outputs": [],
   "source": [
    "def problem2(): # 수정할 수 없음\n",
    "    L = [3, 5, 9, 1, 2]\n",
    "    ml1 = merge_list(L, [2, 1])\n",
    "    ml2 = merge_list([6, 9, 4], L)\n",
    "\n",
    "    print(ml1) \n",
    "    print(ml2) "
   ]
  },
  {
   "cell_type": "code",
   "execution_count": 148,
   "id": "61f9882e-9f01-4c72-b459-4694a2e66eb9",
   "metadata": {},
   "outputs": [
    {
     "name": "stdout",
     "output_type": "stream",
     "text": [
      "[1, 1, 2, 2, 3, 5, 9]\n",
      "[1, 2, 3, 4, 5, 6, 9, 9]\n"
     ]
    }
   ],
   "source": [
    "problem2()"
   ]
  },
  {
   "cell_type": "code",
   "execution_count": 149,
   "id": "a7102710",
   "metadata": {},
   "outputs": [],
   "source": [
    "# 실습3 - 랜덤 모듈 사용\n",
    "\n",
    "import random\n",
    "\n",
    "def problem3(): # (함수 완성하기)\n",
    "    menu = [\"된장찌개\", \"부대찌개\", \"김치찌개\", \"삼계탕\", \"파스타\", \"돈까스\", \"쌀국수\"]\n",
    "    print(f\"오늘 점심은 {random.choice(menu)}입니다.\")"
   ]
  },
  {
   "cell_type": "code",
   "execution_count": 150,
   "id": "42f3cd65-b92d-4044-b414-6a22ad93343f",
   "metadata": {},
   "outputs": [
    {
     "name": "stdout",
     "output_type": "stream",
     "text": [
      "오늘 점심은 부대찌개입니다.\n"
     ]
    }
   ],
   "source": [
    "problem3()"
   ]
  },
  {
   "cell_type": "code",
   "execution_count": 151,
   "id": "2e7901fd",
   "metadata": {},
   "outputs": [
    {
     "name": "stdout",
     "output_type": "stream",
     "text": [
      "평균: 84.3점, 최고점: 90점\n",
      "평균: 77.0점, 최고점: 99점\n",
      "[1, 1, 2, 2, 3, 5, 9]\n",
      "[1, 2, 3, 4, 5, 6, 9, 9]\n",
      "오늘 점심은 돈까스입니다.\n"
     ]
    }
   ],
   "source": [
    "if __name__ == \"__main__\":\n",
    "    problem1() # 실습1\n",
    "    problem2() # 실습2\n",
    "    problem3() # 실습3"
   ]
  },
  {
   "attachments": {
    "1d79dac4-8cbc-4d15-b8a2-d8949720f191.png": {
     "image/png": "[encoded data removed]"
    }
   },
   "cell_type": "markdown",
   "id": "ad56391d-8d20-49df-b0c7-3479f0cf8aaa",
   "metadata": {},
   "source": [
    "### 실행 결과 예시\n",
    "![Lab3_ex.png](attachment:1d79dac4-8cbc-4d15-b8a2-d8949720f191.png)"
   ]
  }
 ],
 "metadata": {
  "kernelspec": {
   "display_name": "Python 3",
   "language": "python",
   "name": "python3"
  },
  "language_info": {
   "codemirror_mode": {
    "name": "ipython",
    "version": 3
   },
   "file_extension": ".py",
   "mimetype": "text/x-python",
   "name": "python",
   "nbconvert_exporter": "python",
   "pygments_lexer": "ipython3",
   "version": "3.13.2"
  }
 },
 "nbformat": 4,
 "nbformat_minor": 5
}
