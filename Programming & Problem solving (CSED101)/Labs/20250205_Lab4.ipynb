{
 "cells": [
  {
   "cell_type": "markdown",
   "metadata": {},
   "source": [
    "20250205 김정우 Lab4"
   ]
  },
  {
   "cell_type": "code",
   "execution_count": 27,
   "metadata": {},
   "outputs": [],
   "source": [
    "import random"
   ]
  },
  {
   "cell_type": "markdown",
   "metadata": {},
   "source": [
    "들어가기 전"
   ]
  },
  {
   "cell_type": "code",
   "execution_count": 28,
   "metadata": {},
   "outputs": [
    {
     "name": "stdout",
     "output_type": "stream",
     "text": [
      "주사위 숫자: 2 (짝)\n"
     ]
    }
   ],
   "source": [
    "d=random.randint(1, 6)\n",
    "if d%2==1 :\n",
    "    print(f\"주사위 숫자: {d} (홀)\")\n",
    "else :\n",
    "    print(f\"주사위 숫자: {d} (짝)\")"
   ]
  },
  {
   "cell_type": "markdown",
   "metadata": {},
   "source": [
    "실습 1"
   ]
  },
  {
   "cell_type": "code",
   "execution_count": 29,
   "metadata": {},
   "outputs": [
    {
     "name": "stdout",
     "output_type": "stream",
     "text": [
      "가장 큰 수는 3입니다.\n"
     ]
    }
   ],
   "source": [
    "a, b, c = map(int, input(\"세 개의 수를 입력하시오: \").split())\n",
    "if a>b :\n",
    "    if a>c :\n",
    "        print(f\"가장 큰 수는 {a}입니다.\")\n",
    "    else :\n",
    "        print(f\"가장 큰 수는 {c}입니다.\")\n",
    "else :\n",
    "    if b>c :\n",
    "        print(f\"가장 큰 수는 {b}입니다.\")\n",
    "    else :\n",
    "        print(f\"가장 큰 수는 {c}입니다.\")"
   ]
  },
  {
   "cell_type": "markdown",
   "metadata": {},
   "source": [
    "실습 2"
   ]
  },
  {
   "cell_type": "code",
   "execution_count": 30,
   "metadata": {},
   "outputs": [
    {
     "name": "stdout",
     "output_type": "stream",
     "text": [
      "합격\n"
     ]
    }
   ],
   "source": [
    "e=int(input(\"영어 점수 입력: \"))\n",
    "m=int(input(\"수학 점수 입력: \"))\n",
    "if e+m<110 :\n",
    "    print(\"불합격: 총합 점수 부족\")\n",
    "else :\n",
    "    if e<40 :\n",
    "        print(\"불합격: 영어 점수 부족\")\n",
    "    elif m<40 :\n",
    "        print(\"불합격: 수학 점수 부족\")\n",
    "    else :\n",
    "        print(\"합격\")"
   ]
  },
  {
   "cell_type": "markdown",
   "metadata": {},
   "source": [
    "Problem"
   ]
  },
  {
   "cell_type": "code",
   "execution_count": 31,
   "metadata": {},
   "outputs": [],
   "source": [
    "def calc_bmi(h, w):\n",
    "    return w/(h**2)\n",
    "def get_bmi_status(b):\n",
    "    if b<18.5 :\n",
    "        s=\"저체중\"\n",
    "    elif 18.5<=b<25 :\n",
    "        s=\"정상체중\"\n",
    "    elif 25<=b<30 :\n",
    "        s=\"과체중\"\n",
    "    else :\n",
    "        s=\"비만\"\n",
    "    \n",
    "    return s"
   ]
  },
  {
   "cell_type": "code",
   "execution_count": 32,
   "metadata": {},
   "outputs": [
    {
     "name": "stdout",
     "output_type": "stream",
     "text": [
      "당신의 BMI는 22.49이고, 정상체중입니다.\n"
     ]
    }
   ],
   "source": [
    "height=float(input(\"키(cm)를 입력하세요: \"))\n",
    "height/=100\n",
    "weight=float(input(\"몸무게(kg)를 입력하세요: \"))\n",
    "\n",
    "bmi=calc_bmi(height, weight)\n",
    "status=get_bmi_status(bmi)\n",
    "\n",
    "print(f\"당신의 BMI는 {bmi:.2f}이고, {status}입니다.\")"
   ]
  }
 ],
 "metadata": {
  "kernelspec": {
   "display_name": "Python 3",
   "language": "python",
   "name": "python3"
  },
  "language_info": {
   "codemirror_mode": {
    "name": "ipython",
    "version": 3
   },
   "file_extension": ".py",
   "mimetype": "text/x-python",
   "name": "python",
   "nbconvert_exporter": "python",
   "pygments_lexer": "ipython3",
   "version": "3.13.2"
  }
 },
 "nbformat": 4,
 "nbformat_minor": 2
}
