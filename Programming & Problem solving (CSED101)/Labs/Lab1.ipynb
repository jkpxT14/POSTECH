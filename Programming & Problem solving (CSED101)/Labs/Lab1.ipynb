{
 "cells": [
  {
   "cell_type": "code",
   "execution_count": 1,
   "metadata": {},
   "outputs": [
    {
     "name": "stdout",
     "output_type": "stream",
     "text": [
      "10 + 2 = 12\n",
      "10 - 2 = 8\n",
      "10 * 2 = 20\n",
      "10 / 2 = 5.0\n"
     ]
    }
   ],
   "source": [
    "n1=input(\"첫 번째 정수를 입력하세요: \")\n",
    "n2=input(\"두 번째 정수를 입력하세요: \")\n",
    "n1=int(n1)\n",
    "n2=int(n2)\n",
    "print(n1, \"+\", n2, \"=\", n1+n2)\n",
    "print(n1, \"-\", n2, \"=\", n1-n2)\n",
    "print(n1, \"*\", n2, \"=\", n1*n2)\n",
    "print(n1, \"/\", n2, \"=\", n1/n2)"
   ]
  }
 ],
 "metadata": {
  "kernelspec": {
   "display_name": "Python 3",
   "language": "python",
   "name": "python3"
  },
  "language_info": {
   "codemirror_mode": {
    "name": "ipython",
    "version": 3
   },
   "file_extension": ".py",
   "mimetype": "text/x-python",
   "name": "python",
   "nbconvert_exporter": "python",
   "pygments_lexer": "ipython3",
   "version": "3.13.2"
  }
 },
 "nbformat": 4,
 "nbformat_minor": 2
}
