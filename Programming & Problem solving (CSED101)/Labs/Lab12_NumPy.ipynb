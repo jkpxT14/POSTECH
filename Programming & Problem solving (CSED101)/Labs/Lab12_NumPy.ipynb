{
  "cells": [
    {
      "cell_type": "code",
      "execution_count": 42,
      "id": "6d18bffc",
      "metadata": {
        "id": "6d18bffc"
      },
      "outputs": [],
      "source": [
        "import numpy as np"
      ]
    },
    {
      "cell_type": "code",
      "execution_count": 43,
      "id": "6126ce5b",
      "metadata": {
        "colab": {
          "base_uri": "https://localhost:8080/"
        },
        "id": "6126ce5b",
        "outputId": "ddaa6ebe-2094-4696-c2a3-5043874528e6"
      },
      "outputs": [
        {
          "name": "stdout",
          "output_type": "stream",
          "text": [
            "[0 1 2 3 4 5]\n"
          ]
        }
      ],
      "source": [
        "a = np.array([0, 1, 2, 3, 4, 5])\n",
        "print(a)"
      ]
    },
    {
      "cell_type": "code",
      "execution_count": 44,
      "id": "cdb54337",
      "metadata": {
        "colab": {
          "base_uri": "https://localhost:8080/"
        },
        "id": "cdb54337",
        "outputId": "37135adc-bcef-418f-935f-bb97d01771f5"
      },
      "outputs": [
        {
          "name": "stdout",
          "output_type": "stream",
          "text": [
            "<class 'numpy.ndarray'>\n"
          ]
        }
      ],
      "source": [
        "print(type(a))"
      ]
    },
    {
      "cell_type": "code",
      "execution_count": 45,
      "id": "c5ca6d42",
      "metadata": {
        "colab": {
          "base_uri": "https://localhost:8080/"
        },
        "id": "c5ca6d42",
        "outputId": "f56f16be-babe-476c-e83c-de14a848ba56"
      },
      "outputs": [
        {
          "name": "stdout",
          "output_type": "stream",
          "text": [
            "[[0 1 2]\n",
            " [3 4 5]]\n"
          ]
        }
      ],
      "source": [
        "print(np.array([[0, 1, 2],\n",
        "                [3, 4, 5]]))"
      ]
    },
    {
      "cell_type": "code",
      "execution_count": 46,
      "id": "fcf2410b",
      "metadata": {
        "colab": {
          "base_uri": "https://localhost:8080/"
        },
        "id": "fcf2410b",
        "outputId": "16d9e5f4-a166-4064-8524-fcba00993aaa"
      },
      "outputs": [
        {
          "name": "stdout",
          "output_type": "stream",
          "text": [
            "[[0 0 0 0]\n",
            " [0 0 0 0]\n",
            " [0 0 0 0]]\n"
          ]
        }
      ],
      "source": [
        "print(np.zeros((3, 4), dtype=int))"
      ]
    },
    {
      "cell_type": "code",
      "execution_count": 47,
      "id": "40c6b353",
      "metadata": {
        "colab": {
          "base_uri": "https://localhost:8080/"
        },
        "id": "40c6b353",
        "outputId": "85112c92-e4a1-4f26-d0e8-0ee4940ac7ed"
      },
      "outputs": [
        {
          "name": "stdout",
          "output_type": "stream",
          "text": [
            "[[1 1 1]\n",
            " [1 1 1]]\n",
            "\n",
            "[[1. 1. 1.]\n",
            " [1. 1. 1.]]\n"
          ]
        }
      ],
      "source": [
        "print(np.ones((2, 3), dtype=int))\n",
        "print()\n",
        "print(np.array([[1., 1., 1.],\n",
        "                [1., 1., 1.]]))"
      ]
    },
    {
      "cell_type": "code",
      "execution_count": 48,
      "id": "ef2eff2c",
      "metadata": {
        "colab": {
          "base_uri": "https://localhost:8080/"
        },
        "id": "ef2eff2c",
        "outputId": "a12ee207-963b-4a5e-afb8-f44ee99dd280"
      },
      "outputs": [
        {
          "name": "stdout",
          "output_type": "stream",
          "text": [
            "[ 1  2  3  4  5  6  7  8  9 10 11 12]\n"
          ]
        }
      ],
      "source": [
        "a = np.arange(1, 13)\n",
        "print(a)"
      ]
    },
    {
      "cell_type": "code",
      "execution_count": 49,
      "id": "970ac5f9",
      "metadata": {
        "colab": {
          "base_uri": "https://localhost:8080/"
        },
        "id": "970ac5f9",
        "outputId": "30c4b304-81c6-4b77-da1a-0bbcc8bf8248"
      },
      "outputs": [
        {
          "name": "stdout",
          "output_type": "stream",
          "text": [
            "[[ 1  2  3  4]\n",
            " [ 5  6  7  8]\n",
            " [ 9 10 11 12]]\n"
          ]
        }
      ],
      "source": [
        "b=a.reshape((3, 4))\n",
        "print(b)"
      ]
    },
    {
      "cell_type": "code",
      "execution_count": 50,
      "id": "7b5ac64b",
      "metadata": {
        "colab": {
          "base_uri": "https://localhost:8080/"
        },
        "id": "7b5ac64b",
        "outputId": "6a8567fe-e33b-452e-fcf8-c7589479a0e3"
      },
      "outputs": [
        {
          "name": "stdout",
          "output_type": "stream",
          "text": [
            "[[ 1  5  9]\n",
            " [ 2  6 10]\n",
            " [ 3  7 11]\n",
            " [ 4  8 12]]\n",
            "\n",
            "[[ 1  5  9]\n",
            " [ 2  6 10]\n",
            " [ 3  7 11]\n",
            " [ 4  8 12]]\n"
          ]
        }
      ],
      "source": [
        "print(np.transpose(b))\n",
        "print()\n",
        "print(b.T)"
      ]
    },
    {
      "cell_type": "code",
      "execution_count": 51,
      "id": "ae693a3c",
      "metadata": {
        "colab": {
          "base_uri": "https://localhost:8080/"
        },
        "id": "ae693a3c",
        "outputId": "f8ac9154-93fa-4f82-884c-16ac0ff2be21"
      },
      "outputs": [
        {
          "name": "stdout",
          "output_type": "stream",
          "text": [
            "[[ 1  2  3  4  5]\n",
            " [ 6  7  8  9 10]\n",
            " [11 12 13 14 15]]\n"
          ]
        }
      ],
      "source": [
        "a = np.arange(1, 16)\n",
        "b = a.reshape((3, 5))\n",
        "print(b)"
      ]
    },
    {
      "cell_type": "code",
      "execution_count": 52,
      "id": "410c01b1",
      "metadata": {
        "colab": {
          "base_uri": "https://localhost:8080/"
        },
        "id": "410c01b1",
        "outputId": "ddfa8260-13dc-4dba-df73-5a51a83085b2"
      },
      "outputs": [
        {
          "name": "stdout",
          "output_type": "stream",
          "text": [
            "8\n"
          ]
        }
      ],
      "source": [
        "print(b[1, 2])"
      ]
    },
    {
      "cell_type": "code",
      "execution_count": 53,
      "id": "f3b178ab",
      "metadata": {
        "colab": {
          "base_uri": "https://localhost:8080/"
        },
        "id": "f3b178ab",
        "outputId": "289ce7cc-d1ca-4c7e-fa0c-19fbe3f21900"
      },
      "outputs": [
        {
          "name": "stdout",
          "output_type": "stream",
          "text": [
            "[[ 9 10]\n",
            " [14 15]]\n"
          ]
        }
      ],
      "source": [
        "print(b[1:, 3:])"
      ]
    },
    {
      "cell_type": "code",
      "execution_count": 54,
      "id": "e3964ee7",
      "metadata": {
        "colab": {
          "base_uri": "https://localhost:8080/"
        },
        "id": "e3964ee7",
        "outputId": "96029e16-e1f6-407b-ce30-f7b24af7b90b"
      },
      "outputs": [
        {
          "name": "stdout",
          "output_type": "stream",
          "text": [
            "[[  1   2   3   4   5]\n",
            " [  6   7   8 100 100]\n",
            " [ 11  12  13 100 100]]\n"
          ]
        }
      ],
      "source": [
        "b[1:, 3:]=100\n",
        "print(b)"
      ]
    },
    {
      "cell_type": "code",
      "execution_count": 55,
      "id": "08960037",
      "metadata": {
        "colab": {
          "base_uri": "https://localhost:8080/"
        },
        "id": "08960037",
        "outputId": "6694f8fe-8586-4622-9d6d-34db61769670"
      },
      "outputs": [
        {
          "name": "stdout",
          "output_type": "stream",
          "text": [
            "[[ 11  12  13  14  15]\n",
            " [ 16  17  18 110 110]\n",
            " [ 21  22  23 110 110]]\n"
          ]
        }
      ],
      "source": [
        "c=b+10\n",
        "print(c)"
      ]
    },
    {
      "cell_type": "code",
      "execution_count": 56,
      "id": "e1637140",
      "metadata": {
        "colab": {
          "base_uri": "https://localhost:8080/"
        },
        "id": "e1637140",
        "outputId": "2540fdfc-946f-4ef5-8eb6-7a1a7124ab57"
      },
      "outputs": [
        {
          "name": "stdout",
          "output_type": "stream",
          "text": [
            "[[ 6  8]\n",
            " [10 12]]\n",
            "[[-4 -4]\n",
            " [-4 -4]]\n"
          ]
        }
      ],
      "source": [
        "A=np.array([[1, 2],\n",
        "            [3, 4]])\n",
        "B=np.array([[5, 6],\n",
        "            [7, 8]])\n",
        "\n",
        "print(A+B)\n",
        "print(A-B)"
      ]
    },
    {
      "cell_type": "code",
      "execution_count": 57,
      "id": "471486c4",
      "metadata": {
        "colab": {
          "base_uri": "https://localhost:8080/"
        },
        "id": "471486c4",
        "outputId": "8b103bd2-d339-483a-b2c3-3c20cf4ccdd5"
      },
      "outputs": [
        {
          "name": "stdout",
          "output_type": "stream",
          "text": [
            "[[19 22]\n",
            " [43 50]]\n",
            "\n",
            "[[19 22]\n",
            " [43 50]]\n"
          ]
        }
      ],
      "source": [
        "print(A@B)\n",
        "print()\n",
        "print(np.matmul(A, B))"
      ]
    },
    {
      "cell_type": "code",
      "execution_count": 58,
      "id": "115cc57e-5cdb-4042-af6e-253e9f39307d",
      "metadata": {
        "colab": {
          "base_uri": "https://localhost:8080/"
        },
        "id": "115cc57e-5cdb-4042-af6e-253e9f39307d",
        "outputId": "213bf3e1-b2e6-431b-988b-ad7d8f69ff35"
      },
      "outputs": [
        {
          "name": "stdout",
          "output_type": "stream",
          "text": [
            "[[0. 0. 0. 0. 0.]\n",
            " [0. 0. 0. 0. 0.]\n",
            " [0. 0. 0. 0. 0.]\n",
            " [0. 0. 0. 0. 0.]\n",
            " [0. 0. 0. 0. 0.]]\n",
            "\n",
            "[[0. 0. 0. 0. 0.]\n",
            " [0. 1. 1. 1. 0.]\n",
            " [0. 1. 1. 1. 0.]\n",
            " [0. 1. 1. 1. 0.]\n",
            " [0. 0. 0. 0. 0.]]\n"
          ]
        }
      ],
      "source": [
        "import numpy as np\n",
        "\n",
        "n=int(input(\"3 이상의 정수 입력: \"))\n",
        "\n",
        "a=np.zeros((n, n))\n",
        "print(a)\n",
        "print()\n",
        "\n",
        "a[1:n-1, 1:n-1]=1\n",
        "print(a)"
      ]
    }
  ],
  "metadata": {
    "colab": {
      "provenance": []
    },
    "kernelspec": {
      "display_name": "Python 3",
      "language": "python",
      "name": "python3"
    },
    "language_info": {
      "codemirror_mode": {
        "name": "ipython",
        "version": 3
      },
      "file_extension": ".py",
      "mimetype": "text/x-python",
      "name": "python",
      "nbconvert_exporter": "python",
      "pygments_lexer": "ipython3",
      "version": "3.12.10"
    }
  },
  "nbformat": 4,
  "nbformat_minor": 5
}
