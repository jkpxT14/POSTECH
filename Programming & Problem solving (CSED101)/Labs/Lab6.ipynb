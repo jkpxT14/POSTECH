{
 "cells": [
  {
   "cell_type": "markdown",
   "metadata": {},
   "source": [
    "Lab6"
   ]
  },
  {
   "cell_type": "markdown",
   "metadata": {},
   "source": [
    "Problem 1"
   ]
  },
  {
   "cell_type": "code",
   "execution_count": 1,
   "metadata": {},
   "outputs": [],
   "source": [
    "def get_char_count(sen):\n",
    "    d={}\n",
    "    for s in sen:\n",
    "        if s in d:\n",
    "            d[s]+=1\n",
    "        else:\n",
    "            d[s]=1\n",
    "    return d\n",
    "\n",
    "def problem1():\n",
    "    sen1 = \"hello world!!\"\n",
    "    sen2 = \"red apple\"\n",
    "    sen3 = \"aaabbaca\"\n",
    "    print(get_char_count(sen1)) # {'h': 1, 'e': 1, 'l': 3, 'o': 2, ' ': 1, 'w': 1, 'r': 1, 'd': 1, '!': 2}\n",
    "    print(get_char_count(sen2)) # {'r': 1, 'e': 2, 'd': 1, ' ': 1, 'a': 1, 'p': 2, 'l': 1}\n",
    "    print(get_char_count(sen3)) # {'a': 5, 'b': 2, 'c': 1}"
   ]
  },
  {
   "cell_type": "code",
   "execution_count": 2,
   "metadata": {},
   "outputs": [
    {
     "name": "stdout",
     "output_type": "stream",
     "text": [
      "{'h': 1, 'e': 1, 'l': 3, 'o': 2, ' ': 1, 'w': 1, 'r': 1, 'd': 1, '!': 2}\n",
      "{'r': 1, 'e': 2, 'd': 1, ' ': 1, 'a': 1, 'p': 2, 'l': 1}\n",
      "{'a': 5, 'b': 2, 'c': 1}\n"
     ]
    }
   ],
   "source": [
    "problem1()"
   ]
  },
  {
   "cell_type": "markdown",
   "metadata": {},
   "source": [
    "Problem 2"
   ]
  },
  {
   "cell_type": "code",
   "execution_count": 3,
   "metadata": {},
   "outputs": [],
   "source": [
    "def get_min_max(L):\n",
    "    M=max(L)\n",
    "    m=min(L)\n",
    "    L.remove((max(L)))\n",
    "    L.remove((min(L)))\n",
    "    return m, M\n",
    "\n",
    "def problem2():\n",
    "    nlist = [3, 5, 9, 1, 2]\n",
    "    min_val, max_val = get_min_max(nlist)\n",
    "    print(max_val)  # 9\n",
    "    print(min_val)  # 1\n",
    "    print(nlist)    # [3, 5, 2]"
   ]
  },
  {
   "cell_type": "code",
   "execution_count": 4,
   "metadata": {},
   "outputs": [
    {
     "name": "stdout",
     "output_type": "stream",
     "text": [
      "9\n",
      "1\n",
      "[3, 5, 2]\n"
     ]
    }
   ],
   "source": [
    "problem2()"
   ]
  }
 ],
 "metadata": {
  "kernelspec": {
   "display_name": "Python 3",
   "language": "python",
   "name": "python3"
  },
  "language_info": {
   "codemirror_mode": {
    "name": "ipython",
    "version": 3
   },
   "file_extension": ".py",
   "mimetype": "text/x-python",
   "name": "python",
   "nbconvert_exporter": "python",
   "pygments_lexer": "ipython3",
   "version": "3.13.2"
  }
 },
 "nbformat": 4,
 "nbformat_minor": 2
}
