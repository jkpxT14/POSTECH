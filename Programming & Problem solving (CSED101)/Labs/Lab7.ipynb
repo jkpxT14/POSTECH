{
 "cells": [
  {
   "cell_type": "markdown",
   "metadata": {},
   "source": [
    "20250205 Jungwoo Kim Lab7"
   ]
  },
  {
   "cell_type": "code",
   "execution_count": 1,
   "metadata": {},
   "outputs": [],
   "source": [
    "fr=open('score.txt', 'r')\n",
    "fw=open('report.txt', 'w')\n",
    "\n",
    "for line in fr:\n",
    "    sid, mid, fin = line.split()\n",
    "    mid=float(mid); fin=float(fin)\n",
    "    avg=(mid+fin)/2\n",
    "    if avg>=90:\n",
    "        fw.write(f\"{sid} {avg}(A)\\n\")\n",
    "    elif avg>=80:\n",
    "        fw.write(f\"{sid} {avg}(B)\\n\")\n",
    "    elif avg>=70:\n",
    "        fw.write(f\"{sid} {avg}(C)\\n\")\n",
    "    elif avg>=60:\n",
    "        fw.write(f\"{sid} {avg}(D)\\n\")\n",
    "    else:\n",
    "        fw.write(f\"{sid} {avg}(F)\\n\")\n",
    "\n",
    "fr.close()\n",
    "fw.close()"
   ]
  }
 ],
 "metadata": {
  "kernelspec": {
   "display_name": "Python 3",
   "language": "python",
   "name": "python3"
  },
  "language_info": {
   "codemirror_mode": {
    "name": "ipython",
    "version": 3
   },
   "file_extension": ".py",
   "mimetype": "text/x-python",
   "name": "python",
   "nbconvert_exporter": "python",
   "pygments_lexer": "ipython3",
   "version": "3.13.2"
  }
 },
 "nbformat": 4,
 "nbformat_minor": 2
}
